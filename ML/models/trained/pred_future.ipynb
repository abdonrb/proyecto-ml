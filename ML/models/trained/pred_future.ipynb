{
 "cells": [
  {
   "cell_type": "code",
   "execution_count": 1,
   "metadata": {},
   "outputs": [],
   "source": [
    "## Manipulación de datos\n",
    "import pandas as pd\n",
    "import numpy as np\n",
    "\n",
    "## Visualización\n",
    "import matplotlib.pyplot as plt\n",
    "import seaborn as sns\n",
    "\n",
    "import warnings\n",
    "warnings.filterwarnings('ignore')\n",
    "\n",
    "## Modelos\n",
    "from sklearn.metrics import mean_absolute_error,root_mean_squared_error,r2_score\n",
    "\n",
    "from xgboost import XGBRegressor\n",
    "from lightgbm import LGBMRegressor\n",
    "from sklearn.ensemble import RandomForestRegressor\n",
    "from sklearn.linear_model import LinearRegression\n",
    "from sklearn.svm import SVR\n",
    "from sklearn.linear_model import Ridge,BayesianRidge\n",
    "from sklearn.linear_model import Lasso\n",
    "from sklearn.linear_model import ElasticNet\n",
    "from sklearn.ensemble import StackingRegressor\n",
    "import statsmodels.api as sm\n",
    "import shap"
   ]
  },
  {
   "cell_type": "code",
   "execution_count": 2,
   "metadata": {},
   "outputs": [],
   "source": [
    "df = pd.read_csv(r'..\\..\\data\\processed\\ML_future.csv')\n",
    "df1 = pd.read_csv(r'..\\..\\data\\processed\\Merch_ML.csv')"
   ]
  },
  {
   "cell_type": "code",
   "execution_count": 3,
   "metadata": {},
   "outputs": [],
   "source": [
    "train = df.iloc[:290]\n",
    "test = df.iloc[290:]"
   ]
  },
  {
   "cell_type": "code",
   "execution_count": 4,
   "metadata": {},
   "outputs": [],
   "source": [
    "X_train_cp, y_train_cp = train.drop(columns=['Cantidad_Productos']), train['Cantidad_Productos']\n",
    "X_test_cp, y_test_cp = test.drop(columns=['Cantidad_Productos']), test['Cantidad_Productos']"
   ]
  },
  {
   "cell_type": "code",
   "execution_count": 5,
   "metadata": {},
   "outputs": [],
   "source": [
    "X_train_vu, y_train_vu = train.drop(columns=['Ventas_X_Unidad']), train['Ventas_X_Unidad']\n",
    "X_test_vu, y_test_vu = test.drop(columns=['Ventas_X_Unidad']), test['Ventas_X_Unidad']"
   ]
  },
  {
   "cell_type": "code",
   "execution_count": 6,
   "metadata": {},
   "outputs": [],
   "source": [
    "X_train_np, y_train_np = train.drop(columns=['Numero_pedidos']), train['Numero_pedidos']\n",
    "X_test_np, y_test_np = test.drop(columns=['Numero_pedidos']), test['Numero_pedidos']"
   ]
  },
  {
   "cell_type": "code",
   "execution_count": 7,
   "metadata": {},
   "outputs": [],
   "source": [
    "X_train_ts, y_train_ts = train.drop(columns=['Total_Sales']), train['Total_Sales']\n",
    "X_test_ts, y_test_ts = test.drop(columns=['Total_Sales']), test['Total_Sales']"
   ]
  },
  {
   "cell_type": "code",
   "execution_count": 8,
   "metadata": {},
   "outputs": [
    {
     "name": "stdout",
     "output_type": "stream",
     "text": [
      "RMSE: 183.0329\n",
      "MAE: 142.4962\n",
      "R² Score: 0.9223\n"
     ]
    }
   ],
   "source": [
    "stacking_clf_ts = StackingRegressor(\n",
    "    estimators=[\n",
    "        ('lr', LinearRegression()),\n",
    "        ('rf',  RandomForestRegressor(n_estimators=300, max_depth=10, random_state=42)),\n",
    "        ('b_ridge', BayesianRidge()),\n",
    "        ('lasso', Lasso()),\n",
    "        ('enet', ElasticNet()),\n",
    "    ],\n",
    "    final_estimator=Ridge(alpha=1.0, solver=\"sag\"),\n",
    "    cv=3  # número de folds en validación cruzada\n",
    ")\n",
    "stacking_clf_ts.fit(X_train_ts, y_train_ts)\n",
    "stacking_pred_ts = stacking_clf_ts.predict(X_test_ts)\n",
    "\n",
    "rmse_stack = root_mean_squared_error(y_test_ts,stacking_pred_ts)\n",
    "mae_stack = mean_absolute_error(y_test_ts,stacking_pred_ts)\n",
    "r2_stack = r2_score(y_test_ts, stacking_pred_ts)\n",
    "print(f'RMSE: {rmse_stack:.4f}')\n",
    "print(f'MAE: {mae_stack:.4f}')\n",
    "print(f'R² Score: {r2_stack:.4f}')"
   ]
  },
  {
   "cell_type": "code",
   "execution_count": 9,
   "metadata": {},
   "outputs": [
    {
     "name": "stdout",
     "output_type": "stream",
     "text": [
      "RMSE: 0.3766\n",
      "MAE: 0.2500\n",
      "R² Score: 0.9924\n"
     ]
    }
   ],
   "source": [
    "stacking_clf = StackingRegressor(\n",
    "    estimators=[\n",
    "        ('lr', LinearRegression()),\n",
    "        ('rf',  RandomForestRegressor(n_estimators=300, max_depth=10, random_state=42)),\n",
    "        ('b_ridge', BayesianRidge()),\n",
    "        ('lasso', Lasso()),\n",
    "        ('enet', ElasticNet()),\n",
    "    ],\n",
    "    final_estimator=Ridge(alpha=1.0, solver=\"sag\"),\n",
    "    cv=3  # número de folds en validación cruzada\n",
    ")\n",
    "stacking_clf.fit(X_train_np, y_train_np)\n",
    "stacking_pred_np = stacking_clf.predict(X_test_np)\n",
    "\n",
    "rmse_stack = root_mean_squared_error(y_test_np,stacking_pred_np)\n",
    "mae_stack = mean_absolute_error(y_test_np,stacking_pred_np)\n",
    "r2_stack = r2_score(y_test_np, stacking_pred_np)\n",
    "print(f'RMSE: {rmse_stack:.4f}')\n",
    "print(f'MAE: {mae_stack:.4f}')\n",
    "print(f'R² Score: {r2_stack:.4f}')"
   ]
  },
  {
   "cell_type": "code",
   "execution_count": 10,
   "metadata": {},
   "outputs": [
    {
     "name": "stdout",
     "output_type": "stream",
     "text": [
      "RMSE: 125.3646\n",
      "MAE: 94.0087\n",
      "R² Score: 0.8893\n"
     ]
    }
   ],
   "source": [
    "stacking_clf.fit(X_train_vu, y_train_vu)\n",
    "stacking_pred_vu = stacking_clf.predict(X_test_vu)\n",
    "\n",
    "rmse_stack = root_mean_squared_error(y_test_vu,stacking_pred_vu)\n",
    "mae_stack = mean_absolute_error(y_test_vu,stacking_pred_vu)\n",
    "r2_stack = r2_score(y_test_vu, stacking_pred_vu)\n",
    "print(f'RMSE: {rmse_stack:.4f}')\n",
    "print(f'MAE: {mae_stack:.4f}')\n",
    "print(f'R² Score: {r2_stack:.4f}')"
   ]
  },
  {
   "cell_type": "code",
   "execution_count": 11,
   "metadata": {},
   "outputs": [
    {
     "name": "stdout",
     "output_type": "stream",
     "text": [
      "RMSE: 0.5711\n",
      "MAE: 0.4252\n",
      "R² Score: 0.9946\n"
     ]
    }
   ],
   "source": [
    "stacking_clf.fit(X_train_cp, y_train_cp)\n",
    "stacking_pred_cp = stacking_clf.predict(X_test_cp)\n",
    "\n",
    "rmse_stack = root_mean_squared_error(y_test_cp,stacking_pred_cp)\n",
    "mae_stack = mean_absolute_error(y_test_cp,stacking_pred_cp)\n",
    "r2_stack = r2_score(y_test_cp, stacking_pred_cp)\n",
    "print(f'RMSE: {rmse_stack:.4f}')\n",
    "print(f'MAE: {mae_stack:.4f}')\n",
    "print(f'R² Score: {r2_stack:.4f}')"
   ]
  },
  {
   "cell_type": "code",
   "execution_count": 12,
   "metadata": {},
   "outputs": [],
   "source": [
    "stacking_pred_cp = stacking_pred_cp.astype(int)\n",
    "stacking_pred_np = stacking_pred_np.astype(int)\n",
    "stacking_pred_vu = stacking_pred_vu.astype(int)"
   ]
  },
  {
   "cell_type": "code",
   "execution_count": 13,
   "metadata": {},
   "outputs": [
    {
     "name": "stdout",
     "output_type": "stream",
     "text": [
      "[26 20 29 32 33 24 23 40 31 42 30 31 32 22 39 31 39 33 33 19 26 52 36 44\n",
      " 33 37 36 20 16 29 46 35 33 39 43 33 41 31 27 45 28 41 42 42 27 37 40 37\n",
      " 23 25 34 40 33 19 39 32 34 26 22 22 27 35 22 31 39 32 22 21 17 28 36 26\n",
      " 43 22 33 34]\n",
      "[19 16 18 15 25 20 14 24 17 25 14 20 16 12 25 18 24 17 20 14 16 28 22 23\n",
      " 19 25 22 15 10 21 25 20 21 22 25 21 21 20 18 25 18 23 23 25  8 18 19 21\n",
      " 14 17 20 21 22 13 26 23 17 18 18 11 18 18 15 21 24 18  9 17 13 18 20 16\n",
      " 24 15 20 17]\n",
      "[1372 1095 1175 1059 1843 1608  950 1575 1087 1923 1129 1284 1128  814\n",
      " 1749 1453 1683 1237 1447 1067 1255 1940 1415 1497 1379 1473 1474 1094\n",
      "  771 1568 1566 1279 1314 1559 1897 1427 1183 1561 1213 1562 1131 1840\n",
      " 1780 1792  786 1272 1307 1292 1059 1200 1581 1474 1474 1058 2066 2018\n",
      " 1364 1157 1144  913 1099 1473  990 1393 1697 1128  765 1145  944 1342\n",
      " 1467 1306 2093  892 1514  904]\n"
     ]
    }
   ],
   "source": [
    "print(stacking_pred_cp)\n",
    "print(stacking_pred_np)\n",
    "print(stacking_pred_vu)"
   ]
  },
  {
   "cell_type": "code",
   "execution_count": 14,
   "metadata": {},
   "outputs": [],
   "source": [
    "df1.sort_values('Order_Date',inplace=True)"
   ]
  },
  {
   "cell_type": "code",
   "execution_count": 15,
   "metadata": {},
   "outputs": [],
   "source": [
    "df1.set_index('Order_Date',inplace=True)"
   ]
  },
  {
   "cell_type": "code",
   "execution_count": 16,
   "metadata": {},
   "outputs": [],
   "source": [
    "df1.index = pd.to_datetime(df1.index) "
   ]
  },
  {
   "cell_type": "code",
   "execution_count": 17,
   "metadata": {},
   "outputs": [],
   "source": [
    "future_dates = pd.date_range(start=df1.index[-1] + pd.Timedelta(days=1), periods=76, freq='D')"
   ]
  },
  {
   "cell_type": "code",
   "execution_count": 18,
   "metadata": {},
   "outputs": [],
   "source": [
    "dic = {\n",
    "    'Cantidad_Productos': list(stacking_pred_cp),  \n",
    "    'Numero_pedidos': list(stacking_pred_np),\n",
    "    'Ventas_X_Unidad': list(stacking_pred_vu),\n",
    "    'Order_Date': list(future_dates),\n",
    "    'Total_Sales': list(stacking_pred_ts)\n",
    "}"
   ]
  },
  {
   "cell_type": "code",
   "execution_count": 19,
   "metadata": {},
   "outputs": [],
   "source": [
    "df2 = pd.DataFrame(dic)"
   ]
  },
  {
   "cell_type": "code",
   "execution_count": 20,
   "metadata": {},
   "outputs": [
    {
     "data": {
      "text/plain": [
       "Index(['Ventas_X_Unidad', 'Cantidad_Productos', 'Total_Sales',\n",
       "       'Numero_pedidos', 'diasemana', 'M_CantidadP_NumP',\n",
       "       'Order_to_Product_Ratio', 'Pedidos_x_Cantidad'],\n",
       "      dtype='object')"
      ]
     },
     "execution_count": 20,
     "metadata": {},
     "output_type": "execute_result"
    }
   ],
   "source": [
    "df.columns"
   ]
  },
  {
   "cell_type": "code",
   "execution_count": 21,
   "metadata": {},
   "outputs": [],
   "source": [
    "df2['M_CantidadP_NumP'] = df2['Cantidad_Productos'] / df2['Numero_pedidos']  # Promedio de productos por pedido\n",
    "df2['Order_to_Product_Ratio'] = df2['Numero_pedidos'] / df2['Cantidad_Productos']  # Ratio de pedidos a productos\n",
    "df2['Pedidos_x_Cantidad'] = df2['Numero_pedidos'] * df2['Cantidad_Productos']"
   ]
  },
  {
   "cell_type": "code",
   "execution_count": 22,
   "metadata": {},
   "outputs": [],
   "source": [
    "df2.set_index('Order_Date',inplace=True)"
   ]
  },
  {
   "cell_type": "code",
   "execution_count": 23,
   "metadata": {},
   "outputs": [],
   "source": [
    "df2['diasemana'] = df2.index.dayofweek"
   ]
  },
  {
   "cell_type": "code",
   "execution_count": 24,
   "metadata": {},
   "outputs": [],
   "source": [
    "df2.drop(columns='Total_Sales',inplace=True)"
   ]
  },
  {
   "cell_type": "code",
   "execution_count": 25,
   "metadata": {},
   "outputs": [],
   "source": [
    "df2 = df2[['Ventas_X_Unidad','Cantidad_Productos','Numero_pedidos','diasemana','M_CantidadP_NumP','Order_to_Product_Ratio','Pedidos_x_Cantidad']]"
   ]
  },
  {
   "cell_type": "code",
   "execution_count": 26,
   "metadata": {},
   "outputs": [],
   "source": [
    "pred = stacking_clf_ts.predict(df2)"
   ]
  },
  {
   "cell_type": "code",
   "execution_count": 27,
   "metadata": {},
   "outputs": [
    {
     "data": {
      "image/png": "[encoded data removed]",
      "text/plain": [
       "<Figure size 1200x600 with 1 Axes>"
      ]
     },
     "metadata": {},
     "output_type": "display_data"
    }
   ],
   "source": [
    "plt.figure(figsize=(12,6))\n",
    "\n",
    "# Graficar predicciones futuras\n",
    "plt.plot(df2.index, pred, label=\"Predicción Stacking (76 días)\", color='blue')\n",
    "\n",
    "# Configurar etiquetas y título\n",
    "plt.xlabel(\"Fecha\")\n",
    "plt.ylabel(\"Ventas\")\n",
    "plt.title(\"Predicción de Ventas con Stacking para los Próximos 76 Días\")\n",
    "plt.legend()\n",
    "\n",
    "# Mostrar gráfico\n",
    "plt.show()"
   ]
  }
 ],
 "metadata": {
  "kernelspec": {
   "display_name": ".venv",
   "language": "python",
   "name": "python3"
  },
  "language_info": {
   "codemirror_mode": {
    "name": "ipython",
    "version": 3
   },
   "file_extension": ".py",
   "mimetype": "text/x-python",
   "name": "python",
   "nbconvert_exporter": "python",
   "pygments_lexer": "ipython3",
   "version": "3.12.6"
  }
 },
 "nbformat": 4,
 "nbformat_minor": 2
}
