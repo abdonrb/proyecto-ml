{
 "cells": [
  {
   "cell_type": "code",
   "execution_count": 17,
   "metadata": {},
   "outputs": [],
   "source": [
    "from prophet import Prophet\n",
    "import pandas as pd\n",
    "import numpy as np\n",
    "import matplotlib.pyplot as plt\n",
    "from sklearn.metrics import mean_absolute_error,root_mean_squared_error\n",
    "import warnings\n",
    "warnings.filterwarnings('ignore')\n"
   ]
  },
  {
   "cell_type": "code",
   "execution_count": 3,
   "metadata": {},
   "outputs": [
    {
     "data": {
      "text/html": [
       "<div>\n",
       "<style scoped>\n",
       "    .dataframe tbody tr th:only-of-type {\n",
       "        vertical-align: middle;\n",
       "    }\n",
       "\n",
       "    .dataframe tbody tr th {\n",
       "        vertical-align: top;\n",
       "    }\n",
       "\n",
       "    .dataframe thead th {\n",
       "        text-align: right;\n",
       "    }\n",
       "</style>\n",
       "<table border=\"1\" class=\"dataframe\">\n",
       "  <thead>\n",
       "    <tr style=\"text-align: right;\">\n",
       "      <th></th>\n",
       "      <th>Order_Date</th>\n",
       "      <th>Buyer_Age</th>\n",
       "      <th>Sales_Price</th>\n",
       "      <th>Shipping_Charges</th>\n",
       "      <th>Sales_per_Unit</th>\n",
       "      <th>Quantity</th>\n",
       "      <th>Total_Sales</th>\n",
       "      <th>Rating</th>\n",
       "      <th>Product_ID</th>\n",
       "      <th>Order_Location</th>\n",
       "      <th>International_Shipping</th>\n",
       "      <th>Buyer_Gender</th>\n",
       "      <th>Product_Category_Clothing</th>\n",
       "      <th>Product_Category_Ornaments</th>\n",
       "      <th>Product_Category_Other</th>\n",
       "    </tr>\n",
       "    <tr>\n",
       "      <th>Order_ID</th>\n",
       "      <th></th>\n",
       "      <th></th>\n",
       "      <th></th>\n",
       "      <th></th>\n",
       "      <th></th>\n",
       "      <th></th>\n",
       "      <th></th>\n",
       "      <th></th>\n",
       "      <th></th>\n",
       "      <th></th>\n",
       "      <th></th>\n",
       "      <th></th>\n",
       "      <th></th>\n",
       "      <th></th>\n",
       "      <th></th>\n",
       "    </tr>\n",
       "  </thead>\n",
       "  <tbody>\n",
       "    <tr>\n",
       "      <th>189440</th>\n",
       "      <td>2024-07-21</td>\n",
       "      <td>30</td>\n",
       "      <td>100</td>\n",
       "      <td>0</td>\n",
       "      <td>100</td>\n",
       "      <td>1</td>\n",
       "      <td>100</td>\n",
       "      <td>4</td>\n",
       "      <td>0</td>\n",
       "      <td>15</td>\n",
       "      <td>0</td>\n",
       "      <td>1</td>\n",
       "      <td>1.0</td>\n",
       "      <td>0.0</td>\n",
       "      <td>0.0</td>\n",
       "    </tr>\n",
       "    <tr>\n",
       "      <th>187385</th>\n",
       "      <td>2024-07-20</td>\n",
       "      <td>32</td>\n",
       "      <td>100</td>\n",
       "      <td>0</td>\n",
       "      <td>100</td>\n",
       "      <td>1</td>\n",
       "      <td>100</td>\n",
       "      <td>3</td>\n",
       "      <td>0</td>\n",
       "      <td>6</td>\n",
       "      <td>0</td>\n",
       "      <td>1</td>\n",
       "      <td>1.0</td>\n",
       "      <td>0.0</td>\n",
       "      <td>0.0</td>\n",
       "    </tr>\n",
       "    <tr>\n",
       "      <th>181844</th>\n",
       "      <td>2024-07-21</td>\n",
       "      <td>26</td>\n",
       "      <td>9</td>\n",
       "      <td>40</td>\n",
       "      <td>49</td>\n",
       "      <td>1</td>\n",
       "      <td>49</td>\n",
       "      <td>2</td>\n",
       "      <td>1</td>\n",
       "      <td>1</td>\n",
       "      <td>1</td>\n",
       "      <td>0</td>\n",
       "      <td>0.0</td>\n",
       "      <td>0.0</td>\n",
       "      <td>1.0</td>\n",
       "    </tr>\n",
       "    <tr>\n",
       "      <th>197934</th>\n",
       "      <td>2024-08-19</td>\n",
       "      <td>28</td>\n",
       "      <td>9</td>\n",
       "      <td>0</td>\n",
       "      <td>9</td>\n",
       "      <td>2</td>\n",
       "      <td>18</td>\n",
       "      <td>3</td>\n",
       "      <td>1</td>\n",
       "      <td>18</td>\n",
       "      <td>0</td>\n",
       "      <td>1</td>\n",
       "      <td>0.0</td>\n",
       "      <td>0.0</td>\n",
       "      <td>1.0</td>\n",
       "    </tr>\n",
       "    <tr>\n",
       "      <th>122470</th>\n",
       "      <td>2024-01-06</td>\n",
       "      <td>19</td>\n",
       "      <td>10</td>\n",
       "      <td>0</td>\n",
       "      <td>10</td>\n",
       "      <td>3</td>\n",
       "      <td>30</td>\n",
       "      <td>5</td>\n",
       "      <td>2</td>\n",
       "      <td>11</td>\n",
       "      <td>0</td>\n",
       "      <td>0</td>\n",
       "      <td>0.0</td>\n",
       "      <td>0.0</td>\n",
       "      <td>1.0</td>\n",
       "    </tr>\n",
       "  </tbody>\n",
       "</table>\n",
       "</div>"
      ],
      "text/plain": [
       "          Order_Date  Buyer_Age  Sales_Price  Shipping_Charges  \\\n",
       "Order_ID                                                         \n",
       "189440    2024-07-21         30          100                 0   \n",
       "187385    2024-07-20         32          100                 0   \n",
       "181844    2024-07-21         26            9                40   \n",
       "197934    2024-08-19         28            9                 0   \n",
       "122470    2024-01-06         19           10                 0   \n",
       "\n",
       "          Sales_per_Unit  Quantity  Total_Sales  Rating  Product_ID  \\\n",
       "Order_ID                                                              \n",
       "189440               100         1          100       4           0   \n",
       "187385               100         1          100       3           0   \n",
       "181844                49         1           49       2           1   \n",
       "197934                 9         2           18       3           1   \n",
       "122470                10         3           30       5           2   \n",
       "\n",
       "          Order_Location  International_Shipping  Buyer_Gender  \\\n",
       "Order_ID                                                         \n",
       "189440                15                       0             1   \n",
       "187385                 6                       0             1   \n",
       "181844                 1                       1             0   \n",
       "197934                18                       0             1   \n",
       "122470                11                       0             0   \n",
       "\n",
       "          Product_Category_Clothing  Product_Category_Ornaments  \\\n",
       "Order_ID                                                          \n",
       "189440                          1.0                         0.0   \n",
       "187385                          1.0                         0.0   \n",
       "181844                          0.0                         0.0   \n",
       "197934                          0.0                         0.0   \n",
       "122470                          0.0                         0.0   \n",
       "\n",
       "          Product_Category_Other  \n",
       "Order_ID                          \n",
       "189440                       0.0  \n",
       "187385                       0.0  \n",
       "181844                       1.0  \n",
       "197934                       1.0  \n",
       "122470                       1.0  "
      ]
     },
     "execution_count": 3,
     "metadata": {},
     "output_type": "execute_result"
    }
   ],
   "source": [
    "df = pd.read_csv(r'..\\..\\data\\processed\\Merch_ML.csv',index_col='Order_ID')\n",
    "df.head()"
   ]
  },
  {
   "cell_type": "code",
   "execution_count": 12,
   "metadata": {},
   "outputs": [],
   "source": [
    "df['Total_Sales'] = np.log1p(df['Total_Sales'])"
   ]
  },
  {
   "cell_type": "code",
   "execution_count": null,
   "metadata": {},
   "outputs": [
    {
     "name": "stderr",
     "output_type": "stream",
     "text": [
      "13:31:37 - cmdstanpy - INFO - Chain [1] start processing\n",
      "13:31:37 - cmdstanpy - INFO - Chain [1] done processing\n",
      "13:31:37 - cmdstanpy - INFO - Chain [1] start processing\n"
     ]
    },
    {
     "name": "stdout",
     "output_type": "stream",
     "text": [
      "Producto 0 - MAE log: 0.08, MAPE log: 4.40%\n",
      "Producto 0 - MAE real: 0.50, MAPE real: 9.48%\n"
     ]
    },
    {
     "name": "stderr",
     "output_type": "stream",
     "text": [
      "13:31:38 - cmdstanpy - INFO - Chain [1] done processing\n",
      "13:31:38 - cmdstanpy - INFO - Chain [1] start processing\n"
     ]
    },
    {
     "name": "stdout",
     "output_type": "stream",
     "text": [
      "Producto 1 - MAE log: 0.19, MAPE log: 13.74%\n",
      "Producto 1 - MAE real: 0.81, MAPE real: 25.58%\n"
     ]
    },
    {
     "name": "stderr",
     "output_type": "stream",
     "text": [
      "13:31:38 - cmdstanpy - INFO - Chain [1] done processing\n",
      "13:31:38 - cmdstanpy - INFO - Chain [1] start processing\n"
     ]
    },
    {
     "name": "stdout",
     "output_type": "stream",
     "text": [
      "Producto 2 - MAE log: 0.19, MAPE log: 13.41%\n",
      "Producto 2 - MAE real: 0.83, MAPE real: 25.36%\n"
     ]
    },
    {
     "name": "stderr",
     "output_type": "stream",
     "text": [
      "13:31:38 - cmdstanpy - INFO - Chain [1] done processing\n",
      "13:31:38 - cmdstanpy - INFO - Chain [1] start processing\n"
     ]
    },
    {
     "name": "stdout",
     "output_type": "stream",
     "text": [
      "Producto 3 - MAE log: 0.07, MAPE log: 3.66%\n",
      "Producto 3 - MAE real: 0.42, MAPE real: 7.94%\n"
     ]
    },
    {
     "name": "stderr",
     "output_type": "stream",
     "text": [
      "13:31:38 - cmdstanpy - INFO - Chain [1] done processing\n",
      "13:31:39 - cmdstanpy - INFO - Chain [1] start processing\n"
     ]
    },
    {
     "name": "stdout",
     "output_type": "stream",
     "text": [
      "Producto 4 - MAE log: 0.11, MAPE log: 6.73%\n",
      "Producto 4 - MAE real: 0.57, MAPE real: 13.63%\n"
     ]
    },
    {
     "name": "stderr",
     "output_type": "stream",
     "text": [
      "13:31:39 - cmdstanpy - INFO - Chain [1] done processing\n",
      "13:31:39 - cmdstanpy - INFO - Chain [1] start processing\n"
     ]
    },
    {
     "name": "stdout",
     "output_type": "stream",
     "text": [
      "Producto 5 - MAE log: 0.08, MAPE log: 4.67%\n",
      "Producto 5 - MAE real: 0.47, MAPE real: 9.80%\n"
     ]
    },
    {
     "name": "stderr",
     "output_type": "stream",
     "text": [
      "13:31:39 - cmdstanpy - INFO - Chain [1] done processing\n",
      "13:31:40 - cmdstanpy - INFO - Chain [1] start processing\n"
     ]
    },
    {
     "name": "stdout",
     "output_type": "stream",
     "text": [
      "Producto 6 - MAE log: 0.07, MAPE log: 3.93%\n",
      "Producto 6 - MAE real: 0.47, MAPE real: 8.59%\n"
     ]
    },
    {
     "name": "stderr",
     "output_type": "stream",
     "text": [
      "13:31:40 - cmdstanpy - INFO - Chain [1] done processing\n",
      "13:31:40 - cmdstanpy - INFO - Chain [1] start processing\n"
     ]
    },
    {
     "name": "stdout",
     "output_type": "stream",
     "text": [
      "Producto 7 - MAE log: 0.08, MAPE log: 4.15%\n",
      "Producto 7 - MAE real: 0.46, MAPE real: 8.92%\n"
     ]
    },
    {
     "name": "stderr",
     "output_type": "stream",
     "text": [
      "13:31:40 - cmdstanpy - INFO - Chain [1] done processing\n",
      "13:31:40 - cmdstanpy - INFO - Chain [1] start processing\n",
      "13:31:40 - cmdstanpy - INFO - Chain [1] done processing\n"
     ]
    },
    {
     "name": "stdout",
     "output_type": "stream",
     "text": [
      "Producto 8 - MAE log: 0.16, MAPE log: 10.44%\n",
      "Producto 8 - MAE real: 0.72, MAPE real: 20.17%\n"
     ]
    },
    {
     "name": "stderr",
     "output_type": "stream",
     "text": [
      "13:31:40 - cmdstanpy - INFO - Chain [1] start processing\n"
     ]
    },
    {
     "name": "stdout",
     "output_type": "stream",
     "text": [
      "Producto 9 - MAE log: 0.09, MAPE log: 5.50%\n",
      "Producto 9 - MAE real: 0.51, MAPE real: 11.30%\n"
     ]
    },
    {
     "name": "stderr",
     "output_type": "stream",
     "text": [
      "13:31:41 - cmdstanpy - INFO - Chain [1] done processing\n",
      "13:31:41 - cmdstanpy - INFO - Chain [1] start processing\n"
     ]
    },
    {
     "name": "stdout",
     "output_type": "stream",
     "text": [
      "Producto 10 - MAE log: 0.10, MAPE log: 5.75%\n",
      "Producto 10 - MAE real: 0.54, MAPE real: 11.95%\n"
     ]
    },
    {
     "name": "stderr",
     "output_type": "stream",
     "text": [
      "13:31:41 - cmdstanpy - INFO - Chain [1] done processing\n",
      "13:31:41 - cmdstanpy - INFO - Chain [1] start processing\n",
      "13:31:41 - cmdstanpy - INFO - Chain [1] done processing\n"
     ]
    },
    {
     "name": "stdout",
     "output_type": "stream",
     "text": [
      "Producto 11 - MAE log: 0.14, MAPE log: 8.92%\n",
      "Producto 11 - MAE real: 0.67, MAPE real: 17.55%\n",
      "Producto 12 - MAE log: 0.15, MAPE log: 9.27%\n",
      "Producto 12 - MAE real: 0.72, MAPE real: 18.40%\n",
      "\n",
      "Resumen de errores:\n",
      "Producto 0 → MAE: 0.50, MAPE: 9.48%\n",
      "Producto 1 → MAE: 0.81, MAPE: 25.58%\n",
      "Producto 2 → MAE: 0.83, MAPE: 25.36%\n",
      "Producto 3 → MAE: 0.42, MAPE: 7.94%\n",
      "Producto 4 → MAE: 0.57, MAPE: 13.63%\n",
      "Producto 5 → MAE: 0.47, MAPE: 9.80%\n",
      "Producto 6 → MAE: 0.47, MAPE: 8.59%\n",
      "Producto 7 → MAE: 0.46, MAPE: 8.92%\n",
      "Producto 8 → MAE: 0.72, MAPE: 20.17%\n",
      "Producto 9 → MAE: 0.51, MAPE: 11.30%\n",
      "Producto 10 → MAE: 0.54, MAPE: 11.95%\n",
      "Producto 11 → MAE: 0.67, MAPE: 17.55%\n",
      "Producto 12 → MAE: 0.72, MAPE: 18.40%\n"
     ]
    }
   ],
   "source": [
    "from prophet import Prophet\n",
    "import numpy as np\n",
    "from sklearn.metrics import mean_absolute_error\n",
    "\n",
    "mae_scores = {}\n",
    "mape_scores = {}\n",
    "\n",
    "for product in df['Product_ID'].unique():\n",
    "    df_product = df[df['Product_ID'] == product][['Order_Date', 'Total_Sales']].rename(columns={'Order_Date': 'ds', 'Total_Sales': 'y'})\n",
    "    \n",
    "    # 🔹 Aplicar log1p para mayor estabilidad\n",
    "    df_product['y'] = np.log1p(df_product['y'])\n",
    "\n",
    "    # Crear y entrenar Prophet con estacionalidad ajustada\n",
    "    model = Prophet(\n",
    "        changepoint_prior_scale=0.1,\n",
    "        yearly_seasonality=True,\n",
    "        seasonality_prior_scale=20\n",
    "    )\n",
    "    model.add_seasonality(name='monthly', period=30.5, fourier_order=10)  # Agregar estacionalidad manual\n",
    "    model.fit(df_product)\n",
    "\n",
    "    # Hacer predicción en las mismas fechas reales\n",
    "    future = df_product[['ds']]\n",
    "    forecast = model.predict(future)\n",
    "\n",
    "    # Obtener valores reales y predicciones\n",
    "    y_true = df_product['y'].values\n",
    "    y_pred = forecast['yhat'].values\n",
    "\n",
    "    # 🔹 Evaluar en escala log antes de desescalar\n",
    "    mae_log = mean_absolute_error(y_true, y_pred)\n",
    "    mape_log = np.mean(np.abs((y_true - y_pred) / np.maximum(y_true, 1))) * 100\n",
    "\n",
    "    print(f'Producto {product} - MAE log: {mae_log:.2f}, MAPE log: {mape_log:.2f}%')\n",
    "\n",
    "    # 🔹 Deshacer log1p\n",
    "    y_true_original = np.expm1(y_true)\n",
    "    y_pred_original = np.expm1(y_pred)\n",
    "\n",
    "    # Calcular errores en escala original\n",
    "    mae = mean_absolute_error(y_true_original, y_pred_original)\n",
    "    mae_scores[product] = mae\n",
    "\n",
    "    mape = np.mean(np.abs((y_true_original - y_pred_original) / np.maximum(y_true_original, 1))) * 100\n",
    "    mape_scores[product] = mape\n",
    "\n",
    "    print(f'Producto {product} - MAE real: {mae:.2f}, MAPE real: {mape:.2f}%')\n",
    "\n",
    "print(\"\\nResumen de errores:\")\n",
    "for product in mae_scores.keys():\n",
    "    print(f'Producto {product} → MAE: {mae_scores[product]:.2f}, MAPE: {mape_scores[product]:.2f}%')\n",
    "\n"
   ]
  },
  {
   "cell_type": "code",
   "execution_count": 31,
   "metadata": {},
   "outputs": [
    {
     "name": "stdout",
     "output_type": "stream",
     "text": [
      "ADF Statistic: -20.75907477720295\n",
      "p-value: 0.0\n",
      "La serie es estacionaria (rechazamos H0)\n"
     ]
    }
   ],
   "source": [
    "from statsmodels.tsa.stattools import adfuller\n",
    "\n",
    "# Prueba de Dickey-Fuller\n",
    "adf_test = adfuller(df_product)\n",
    "print(f'ADF Statistic: {adf_test[0]}')\n",
    "print(f'p-value: {adf_test[1]}')\n",
    "\n",
    "# Interpretación\n",
    "if adf_test[1] < 0.05:\n",
    "    print(\"La serie es estacionaria (rechazamos H0)\")\n",
    "else:\n",
    "    print(\"La serie NO es estacionaria (no podemos rechazar H0)\")\n"
   ]
  },
  {
   "cell_type": "code",
   "execution_count": 32,
   "metadata": {},
   "outputs": [
    {
     "data": {
      "image/png": "[encoded data removed]",
      "text/plain": [
       "<Figure size 1500x500 with 2 Axes>"
      ]
     },
     "metadata": {},
     "output_type": "display_data"
    }
   ],
   "source": [
    "from statsmodels.graphics.tsaplots import plot_acf, plot_pacf\n",
    "\n",
    "# Graficar ACF y PACF de la serie diferenciada\n",
    "fig, axes = plt.subplots(1, 2, figsize=(15,5))\n",
    "\n",
    "plot_acf(df['Total_Sales'], ax=axes[0])  # ACF\n",
    "axes[0].set_title(\"Autocorrelación (ACF)\")\n",
    "\n",
    "plot_pacf(df['Total_Sales'], ax=axes[1])  # PACF\n",
    "axes[1].set_title(\"Autocorrelación Parcial (PACF)\")\n",
    "\n",
    "plt.show()\n"
   ]
  },
  {
   "cell_type": "code",
   "execution_count": 33,
   "metadata": {},
   "outputs": [
    {
     "name": "stdout",
     "output_type": "stream",
     "text": [
      "Producto 1 - Predicciones ARIMA: 732    3.167813\n",
      "733    3.161106\n",
      "734    3.156332\n",
      "Name: predicted_mean, dtype: float64\n",
      "Producto 2 - Predicciones ARIMA: 569    3.405704\n",
      "570    3.289135\n",
      "571    3.324947\n",
      "Name: predicted_mean, dtype: float64\n",
      "Producto 8 - Predicciones ARIMA: 944    3.528664\n",
      "945    3.537539\n",
      "946    3.541358\n",
      "Name: predicted_mean, dtype: float64\n",
      "Producto 11 - Predicciones ARIMA: 442    3.696781\n",
      "443    3.757493\n",
      "444    3.758952\n",
      "Name: predicted_mean, dtype: float64\n",
      "Producto 12 - Predicciones ARIMA: 133    3.799868\n",
      "134    3.818338\n",
      "135    3.828259\n",
      "Name: predicted_mean, dtype: float64\n"
     ]
    }
   ],
   "source": [
    "from statsmodels.tsa.arima.model import ARIMA\n",
    "\n",
    "productos_altos_errores = [1, 2, 8, 11, 12]  # Productos con MAPE > 20%\n",
    "\n",
    "for product in productos_altos_errores:\n",
    "    df_product = df[df['Product_ID'] == product].set_index('Order_Date')['Total_Sales']\n",
    "    \n",
    "    model = ARIMA(df_product, order=(1,0,1))  # Ajustar según ACF/PACF\n",
    "    model_fit = model.fit()\n",
    "\n",
    "    forecast = model_fit.forecast(steps=3)\n",
    "    print(f'Producto {product} - Predicciones ARIMA:', forecast)\n"
   ]
  },
  {
   "cell_type": "code",
   "execution_count": 34,
   "metadata": {},
   "outputs": [],
   "source": [
    "df['Order_Date'] = pd.to_datetime(df['Order_Date'])\n",
    "df['year'] = df['Order_Date'].dt.year\n",
    "df['month'] = df['Order_Date'].dt.month\n",
    "\n",
    "# Crear una tabla con ventas agregadas por producto y mes\n",
    "df_monthly = df.groupby(['Product_ID', 'year', 'month'])['Total_Sales'].sum().reset_index()\n",
    "\n",
    "# Crear variables de retraso (lag) para ventas pasadas\n",
    "df_monthly['ventas_t-1'] = df_monthly.groupby('Product_ID')['Total_Sales'].shift(1)\n",
    "df_monthly['ventas_t-2'] = df_monthly.groupby('Product_ID')['Total_Sales'].shift(2)\n",
    "df_monthly['ventas_t-3'] = df_monthly.groupby('Product_ID')['Total_Sales'].shift(3)\n",
    "\n",
    "# Eliminar filas con NaN (los primeros meses no tienen datos previos suficientes)\n",
    "df_monthly = df_monthly.dropna()\n",
    "\n",
    "# Definir variables de entrada (X) y salida (y)\n",
    "X = df_monthly[['Product_ID', 'ventas_t-1', 'ventas_t-2', 'ventas_t-3']]\n",
    "y = df_monthly['Total_Sales']"
   ]
  },
  {
   "cell_type": "code",
   "execution_count": 35,
   "metadata": {},
   "outputs": [],
   "source": [
    "from xgboost import XGBRegressor\n",
    "from sklearn.model_selection import train_test_split\n",
    "from sklearn.metrics import mean_absolute_error"
   ]
  },
  {
   "cell_type": "code",
   "execution_count": 36,
   "metadata": {},
   "outputs": [],
   "source": [
    "X_train, X_test, y_train, y_test = train_test_split(X, y, test_size=0.2, random_state=42)"
   ]
  },
  {
   "cell_type": "code",
   "execution_count": 37,
   "metadata": {},
   "outputs": [
    {
     "name": "stdout",
     "output_type": "stream",
     "text": [
      "MAE XGBoost: 54.66\n"
     ]
    }
   ],
   "source": [
    "model = XGBRegressor(objective='reg:squarederror', n_estimators=100, learning_rate=0.1, max_depth=6)\n",
    "model.fit(X_train, y_train)\n",
    "\n",
    "# Predicciones y evaluación\n",
    "y_pred = model.predict(X_test)\n",
    "mae = mean_absolute_error(y_test, y_pred)\n",
    "print(f'MAE XGBoost: {mae:.2f}')"
   ]
  },
  {
   "cell_type": "code",
   "execution_count": 39,
   "metadata": {},
   "outputs": [
    {
     "data": {
      "text/html": [
       "<div>\n",
       "<style scoped>\n",
       "    .dataframe tbody tr th:only-of-type {\n",
       "        vertical-align: middle;\n",
       "    }\n",
       "\n",
       "    .dataframe tbody tr th {\n",
       "        vertical-align: top;\n",
       "    }\n",
       "\n",
       "    .dataframe thead th {\n",
       "        text-align: right;\n",
       "    }\n",
       "</style>\n",
       "<table border=\"1\" class=\"dataframe\">\n",
       "  <thead>\n",
       "    <tr style=\"text-align: right;\">\n",
       "      <th></th>\n",
       "      <th>Product_ID</th>\n",
       "      <th>Predicted_Sales</th>\n",
       "    </tr>\n",
       "  </thead>\n",
       "  <tbody>\n",
       "    <tr>\n",
       "      <th>0</th>\n",
       "      <td>0</td>\n",
       "      <td>296.622711</td>\n",
       "    </tr>\n",
       "    <tr>\n",
       "      <th>1</th>\n",
       "      <td>0</td>\n",
       "      <td>247.461792</td>\n",
       "    </tr>\n",
       "    <tr>\n",
       "      <th>2</th>\n",
       "      <td>0</td>\n",
       "      <td>133.571747</td>\n",
       "    </tr>\n",
       "    <tr>\n",
       "      <th>3</th>\n",
       "      <td>1</td>\n",
       "      <td>119.070557</td>\n",
       "    </tr>\n",
       "    <tr>\n",
       "      <th>4</th>\n",
       "      <td>1</td>\n",
       "      <td>40.055473</td>\n",
       "    </tr>\n",
       "    <tr>\n",
       "      <th>5</th>\n",
       "      <td>1</td>\n",
       "      <td>32.011204</td>\n",
       "    </tr>\n",
       "    <tr>\n",
       "      <th>6</th>\n",
       "      <td>2</td>\n",
       "      <td>147.907211</td>\n",
       "    </tr>\n",
       "    <tr>\n",
       "      <th>7</th>\n",
       "      <td>2</td>\n",
       "      <td>29.878418</td>\n",
       "    </tr>\n",
       "    <tr>\n",
       "      <th>8</th>\n",
       "      <td>2</td>\n",
       "      <td>99.652115</td>\n",
       "    </tr>\n",
       "    <tr>\n",
       "      <th>9</th>\n",
       "      <td>3</td>\n",
       "      <td>133.029938</td>\n",
       "    </tr>\n",
       "    <tr>\n",
       "      <th>10</th>\n",
       "      <td>3</td>\n",
       "      <td>110.215935</td>\n",
       "    </tr>\n",
       "    <tr>\n",
       "      <th>11</th>\n",
       "      <td>3</td>\n",
       "      <td>98.023415</td>\n",
       "    </tr>\n",
       "    <tr>\n",
       "      <th>12</th>\n",
       "      <td>4</td>\n",
       "      <td>43.725521</td>\n",
       "    </tr>\n",
       "    <tr>\n",
       "      <th>13</th>\n",
       "      <td>4</td>\n",
       "      <td>56.380402</td>\n",
       "    </tr>\n",
       "    <tr>\n",
       "      <th>14</th>\n",
       "      <td>4</td>\n",
       "      <td>57.434494</td>\n",
       "    </tr>\n",
       "    <tr>\n",
       "      <th>15</th>\n",
       "      <td>5</td>\n",
       "      <td>457.198242</td>\n",
       "    </tr>\n",
       "    <tr>\n",
       "      <th>16</th>\n",
       "      <td>5</td>\n",
       "      <td>122.980087</td>\n",
       "    </tr>\n",
       "    <tr>\n",
       "      <th>17</th>\n",
       "      <td>5</td>\n",
       "      <td>177.430389</td>\n",
       "    </tr>\n",
       "    <tr>\n",
       "      <th>18</th>\n",
       "      <td>6</td>\n",
       "      <td>96.905533</td>\n",
       "    </tr>\n",
       "    <tr>\n",
       "      <th>19</th>\n",
       "      <td>6</td>\n",
       "      <td>67.407509</td>\n",
       "    </tr>\n",
       "    <tr>\n",
       "      <th>20</th>\n",
       "      <td>6</td>\n",
       "      <td>51.861172</td>\n",
       "    </tr>\n",
       "    <tr>\n",
       "      <th>21</th>\n",
       "      <td>7</td>\n",
       "      <td>277.009796</td>\n",
       "    </tr>\n",
       "    <tr>\n",
       "      <th>22</th>\n",
       "      <td>7</td>\n",
       "      <td>237.316513</td>\n",
       "    </tr>\n",
       "    <tr>\n",
       "      <th>23</th>\n",
       "      <td>7</td>\n",
       "      <td>148.175766</td>\n",
       "    </tr>\n",
       "    <tr>\n",
       "      <th>24</th>\n",
       "      <td>8</td>\n",
       "      <td>209.600616</td>\n",
       "    </tr>\n",
       "    <tr>\n",
       "      <th>25</th>\n",
       "      <td>8</td>\n",
       "      <td>95.292877</td>\n",
       "    </tr>\n",
       "    <tr>\n",
       "      <th>26</th>\n",
       "      <td>8</td>\n",
       "      <td>114.964218</td>\n",
       "    </tr>\n",
       "    <tr>\n",
       "      <th>27</th>\n",
       "      <td>9</td>\n",
       "      <td>59.241096</td>\n",
       "    </tr>\n",
       "    <tr>\n",
       "      <th>28</th>\n",
       "      <td>9</td>\n",
       "      <td>65.289497</td>\n",
       "    </tr>\n",
       "    <tr>\n",
       "      <th>29</th>\n",
       "      <td>9</td>\n",
       "      <td>54.046936</td>\n",
       "    </tr>\n",
       "    <tr>\n",
       "      <th>30</th>\n",
       "      <td>10</td>\n",
       "      <td>67.201874</td>\n",
       "    </tr>\n",
       "    <tr>\n",
       "      <th>31</th>\n",
       "      <td>10</td>\n",
       "      <td>70.525253</td>\n",
       "    </tr>\n",
       "    <tr>\n",
       "      <th>32</th>\n",
       "      <td>10</td>\n",
       "      <td>70.453804</td>\n",
       "    </tr>\n",
       "    <tr>\n",
       "      <th>33</th>\n",
       "      <td>11</td>\n",
       "      <td>128.041183</td>\n",
       "    </tr>\n",
       "    <tr>\n",
       "      <th>34</th>\n",
       "      <td>11</td>\n",
       "      <td>104.775490</td>\n",
       "    </tr>\n",
       "    <tr>\n",
       "      <th>35</th>\n",
       "      <td>11</td>\n",
       "      <td>99.467606</td>\n",
       "    </tr>\n",
       "    <tr>\n",
       "      <th>36</th>\n",
       "      <td>12</td>\n",
       "      <td>36.486305</td>\n",
       "    </tr>\n",
       "    <tr>\n",
       "      <th>37</th>\n",
       "      <td>12</td>\n",
       "      <td>63.956200</td>\n",
       "    </tr>\n",
       "    <tr>\n",
       "      <th>38</th>\n",
       "      <td>12</td>\n",
       "      <td>47.888798</td>\n",
       "    </tr>\n",
       "  </tbody>\n",
       "</table>\n",
       "</div>"
      ],
      "text/plain": [
       "    Product_ID  Predicted_Sales\n",
       "0            0       296.622711\n",
       "1            0       247.461792\n",
       "2            0       133.571747\n",
       "3            1       119.070557\n",
       "4            1        40.055473\n",
       "5            1        32.011204\n",
       "6            2       147.907211\n",
       "7            2        29.878418\n",
       "8            2        99.652115\n",
       "9            3       133.029938\n",
       "10           3       110.215935\n",
       "11           3        98.023415\n",
       "12           4        43.725521\n",
       "13           4        56.380402\n",
       "14           4        57.434494\n",
       "15           5       457.198242\n",
       "16           5       122.980087\n",
       "17           5       177.430389\n",
       "18           6        96.905533\n",
       "19           6        67.407509\n",
       "20           6        51.861172\n",
       "21           7       277.009796\n",
       "22           7       237.316513\n",
       "23           7       148.175766\n",
       "24           8       209.600616\n",
       "25           8        95.292877\n",
       "26           8       114.964218\n",
       "27           9        59.241096\n",
       "28           9        65.289497\n",
       "29           9        54.046936\n",
       "30          10        67.201874\n",
       "31          10        70.525253\n",
       "32          10        70.453804\n",
       "33          11       128.041183\n",
       "34          11       104.775490\n",
       "35          11        99.467606\n",
       "36          12        36.486305\n",
       "37          12        63.956200\n",
       "38          12        47.888798"
      ]
     },
     "execution_count": 39,
     "metadata": {},
     "output_type": "execute_result"
    }
   ],
   "source": [
    "future_predictions = []\n",
    "\n",
    "for product in df['Product_ID'].unique():\n",
    "    last_sales = df_monthly[df_monthly['Product_ID'] == product].iloc[-3:]['Total_Sales'].values.tolist()\n",
    "\n",
    "    for i in range(3):  # Predecir los próximos 3 meses\n",
    "        X_new = np.array([[product, last_sales[-1], last_sales[-2], last_sales[-3]]])  # Crear entrada\n",
    "        y_pred = model.predict(X_new)[0]  # Predecir con XGBoost\n",
    "        future_predictions.append([product, y_pred])\n",
    "        \n",
    "        # Actualizar ventas pasadas para la siguiente predicción\n",
    "        last_sales.append(y_pred)\n",
    "        last_sales.pop(0)  # Elimina el dato más viejo\n",
    "\n",
    "# Convertir predicciones a DataFrame\n",
    "future_df = pd.DataFrame(future_predictions, columns=['Product_ID', 'Predicted_Sales'])\n",
    "future_df"
   ]
  },
  {
   "cell_type": "code",
   "execution_count": null,
   "metadata": {},
   "outputs": [],
   "source": []
  },
  {
   "cell_type": "code",
   "execution_count": null,
   "metadata": {},
   "outputs": [],
   "source": []
  },
  {
   "cell_type": "code",
   "execution_count": null,
   "metadata": {},
   "outputs": [],
   "source": []
  }
 ],
 "metadata": {
  "kernelspec": {
   "display_name": "proyecto_ml-ofZbHP6o-py3.12",
   "language": "python",
   "name": "python3"
  },
  "language_info": {
   "codemirror_mode": {
    "name": "ipython",
    "version": 3
   },
   "file_extension": ".py",
   "mimetype": "text/x-python",
   "name": "python",
   "nbconvert_exporter": "python",
   "pygments_lexer": "ipython3",
   "version": "3.12.6"
  }
 },
 "nbformat": 4,
 "nbformat_minor": 2
}
