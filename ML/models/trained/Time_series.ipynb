{
 "cells": [
  {
   "cell_type": "code",
   "execution_count": 2,
   "metadata": {},
   "outputs": [],
   "source": [
    "from prophet import Prophet\n",
    "import pandas as pd\n",
    "import numpy as np\n",
    "import matplotlib.pyplot as plt\n",
    "from sklearn.metrics import mean_absolute_error,root_mean_squared_error\n",
    "import warnings\n",
    "warnings.filterwarnings('ignore')\n"
   ]
  },
  {
   "cell_type": "code",
   "execution_count": 3,
   "metadata": {},
   "outputs": [
    {
     "data": {
      "text/html": [
       "<div>\n",
       "<style scoped>\n",
       "    .dataframe tbody tr th:only-of-type {\n",
       "        vertical-align: middle;\n",
       "    }\n",
       "\n",
       "    .dataframe tbody tr th {\n",
       "        vertical-align: top;\n",
       "    }\n",
       "\n",
       "    .dataframe thead th {\n",
       "        text-align: right;\n",
       "    }\n",
       "</style>\n",
       "<table border=\"1\" class=\"dataframe\">\n",
       "  <thead>\n",
       "    <tr style=\"text-align: right;\">\n",
       "      <th></th>\n",
       "      <th>Order_Date</th>\n",
       "      <th>Buyer_Age</th>\n",
       "      <th>Sales_Price</th>\n",
       "      <th>Shipping_Charges</th>\n",
       "      <th>Sales_per_Unit</th>\n",
       "      <th>Quantity</th>\n",
       "      <th>Total_Sales</th>\n",
       "      <th>Rating</th>\n",
       "      <th>Product_ID</th>\n",
       "      <th>Order_Location</th>\n",
       "      <th>International_Shipping</th>\n",
       "      <th>Buyer_Gender</th>\n",
       "      <th>Product_Category_Clothing</th>\n",
       "      <th>Product_Category_Ornaments</th>\n",
       "      <th>Product_Category_Other</th>\n",
       "    </tr>\n",
       "    <tr>\n",
       "      <th>Order_ID</th>\n",
       "      <th></th>\n",
       "      <th></th>\n",
       "      <th></th>\n",
       "      <th></th>\n",
       "      <th></th>\n",
       "      <th></th>\n",
       "      <th></th>\n",
       "      <th></th>\n",
       "      <th></th>\n",
       "      <th></th>\n",
       "      <th></th>\n",
       "      <th></th>\n",
       "      <th></th>\n",
       "      <th></th>\n",
       "      <th></th>\n",
       "    </tr>\n",
       "  </thead>\n",
       "  <tbody>\n",
       "    <tr>\n",
       "      <th>189440</th>\n",
       "      <td>2024-07-21</td>\n",
       "      <td>30</td>\n",
       "      <td>100</td>\n",
       "      <td>0</td>\n",
       "      <td>100</td>\n",
       "      <td>1</td>\n",
       "      <td>100</td>\n",
       "      <td>4</td>\n",
       "      <td>0</td>\n",
       "      <td>15</td>\n",
       "      <td>0</td>\n",
       "      <td>1</td>\n",
       "      <td>1.0</td>\n",
       "      <td>0.0</td>\n",
       "      <td>0.0</td>\n",
       "    </tr>\n",
       "    <tr>\n",
       "      <th>187385</th>\n",
       "      <td>2024-07-20</td>\n",
       "      <td>32</td>\n",
       "      <td>100</td>\n",
       "      <td>0</td>\n",
       "      <td>100</td>\n",
       "      <td>1</td>\n",
       "      <td>100</td>\n",
       "      <td>3</td>\n",
       "      <td>0</td>\n",
       "      <td>6</td>\n",
       "      <td>0</td>\n",
       "      <td>1</td>\n",
       "      <td>1.0</td>\n",
       "      <td>0.0</td>\n",
       "      <td>0.0</td>\n",
       "    </tr>\n",
       "    <tr>\n",
       "      <th>181844</th>\n",
       "      <td>2024-07-21</td>\n",
       "      <td>26</td>\n",
       "      <td>9</td>\n",
       "      <td>40</td>\n",
       "      <td>49</td>\n",
       "      <td>1</td>\n",
       "      <td>49</td>\n",
       "      <td>2</td>\n",
       "      <td>1</td>\n",
       "      <td>1</td>\n",
       "      <td>1</td>\n",
       "      <td>0</td>\n",
       "      <td>0.0</td>\n",
       "      <td>0.0</td>\n",
       "      <td>1.0</td>\n",
       "    </tr>\n",
       "    <tr>\n",
       "      <th>197934</th>\n",
       "      <td>2024-08-19</td>\n",
       "      <td>28</td>\n",
       "      <td>9</td>\n",
       "      <td>0</td>\n",
       "      <td>9</td>\n",
       "      <td>2</td>\n",
       "      <td>18</td>\n",
       "      <td>3</td>\n",
       "      <td>1</td>\n",
       "      <td>18</td>\n",
       "      <td>0</td>\n",
       "      <td>1</td>\n",
       "      <td>0.0</td>\n",
       "      <td>0.0</td>\n",
       "      <td>1.0</td>\n",
       "    </tr>\n",
       "    <tr>\n",
       "      <th>122470</th>\n",
       "      <td>2024-01-06</td>\n",
       "      <td>19</td>\n",
       "      <td>10</td>\n",
       "      <td>0</td>\n",
       "      <td>10</td>\n",
       "      <td>3</td>\n",
       "      <td>30</td>\n",
       "      <td>5</td>\n",
       "      <td>2</td>\n",
       "      <td>11</td>\n",
       "      <td>0</td>\n",
       "      <td>0</td>\n",
       "      <td>0.0</td>\n",
       "      <td>0.0</td>\n",
       "      <td>1.0</td>\n",
       "    </tr>\n",
       "  </tbody>\n",
       "</table>\n",
       "</div>"
      ],
      "text/plain": [
       "          Order_Date  Buyer_Age  Sales_Price  Shipping_Charges  \\\n",
       "Order_ID                                                         \n",
       "189440    2024-07-21         30          100                 0   \n",
       "187385    2024-07-20         32          100                 0   \n",
       "181844    2024-07-21         26            9                40   \n",
       "197934    2024-08-19         28            9                 0   \n",
       "122470    2024-01-06         19           10                 0   \n",
       "\n",
       "          Sales_per_Unit  Quantity  Total_Sales  Rating  Product_ID  \\\n",
       "Order_ID                                                              \n",
       "189440               100         1          100       4           0   \n",
       "187385               100         1          100       3           0   \n",
       "181844                49         1           49       2           1   \n",
       "197934                 9         2           18       3           1   \n",
       "122470                10         3           30       5           2   \n",
       "\n",
       "          Order_Location  International_Shipping  Buyer_Gender  \\\n",
       "Order_ID                                                         \n",
       "189440                15                       0             1   \n",
       "187385                 6                       0             1   \n",
       "181844                 1                       1             0   \n",
       "197934                18                       0             1   \n",
       "122470                11                       0             0   \n",
       "\n",
       "          Product_Category_Clothing  Product_Category_Ornaments  \\\n",
       "Order_ID                                                          \n",
       "189440                          1.0                         0.0   \n",
       "187385                          1.0                         0.0   \n",
       "181844                          0.0                         0.0   \n",
       "197934                          0.0                         0.0   \n",
       "122470                          0.0                         0.0   \n",
       "\n",
       "          Product_Category_Other  \n",
       "Order_ID                          \n",
       "189440                       0.0  \n",
       "187385                       0.0  \n",
       "181844                       1.0  \n",
       "197934                       1.0  \n",
       "122470                       1.0  "
      ]
     },
     "execution_count": 3,
     "metadata": {},
     "output_type": "execute_result"
    }
   ],
   "source": [
    "df = pd.read_csv(r'..\\..\\data\\processed\\Merch_ML.csv',index_col='Order_ID')\n",
    "df.head()"
   ]
  },
  {
   "cell_type": "code",
   "execution_count": 4,
   "metadata": {},
   "outputs": [],
   "source": [
    "df['Order_Date'] = pd.to_datetime(df['Order_Date'])"
   ]
  },
  {
   "cell_type": "code",
   "execution_count": 5,
   "metadata": {},
   "outputs": [],
   "source": [
    "nov_24 = df[(df['Order_Date'].dt.month == 11) & (df['Order_Date'].dt.year == 2024)]"
   ]
  },
  {
   "cell_type": "code",
   "execution_count": 6,
   "metadata": {},
   "outputs": [],
   "source": [
    "df.drop(df[(df['Order_Date'].dt.month == 11) & (df['Order_Date'].dt.year == 2024)].index,axis=0,inplace=True)"
   ]
  },
  {
   "cell_type": "code",
   "execution_count": 7,
   "metadata": {},
   "outputs": [],
   "source": [
    "df['Total_Sales'] = np.log1p(df['Total_Sales'])"
   ]
  },
  {
   "cell_type": "code",
   "execution_count": 8,
   "metadata": {},
   "outputs": [
    {
     "name": "stderr",
     "output_type": "stream",
     "text": [
      "15:57:08 - cmdstanpy - INFO - Chain [1] start processing\n",
      "15:57:08 - cmdstanpy - INFO - Chain [1] done processing\n",
      "15:57:08 - cmdstanpy - INFO - Chain [1] start processing\n"
     ]
    },
    {
     "name": "stdout",
     "output_type": "stream",
     "text": [
      "Producto 0 - MAE log: 0.08, MAPE log: 4.37%\n",
      "Producto 0 - MAE real: 0.50, MAPE real: 9.42%\n"
     ]
    },
    {
     "name": "stderr",
     "output_type": "stream",
     "text": [
      "15:57:09 - cmdstanpy - INFO - Chain [1] done processing\n",
      "15:57:09 - cmdstanpy - INFO - Chain [1] start processing\n"
     ]
    },
    {
     "name": "stdout",
     "output_type": "stream",
     "text": [
      "Producto 1 - MAE log: 0.19, MAPE log: 13.91%\n",
      "Producto 1 - MAE real: 0.82, MAPE real: 25.95%\n"
     ]
    },
    {
     "name": "stderr",
     "output_type": "stream",
     "text": [
      "15:57:09 - cmdstanpy - INFO - Chain [1] done processing\n",
      "15:57:09 - cmdstanpy - INFO - Chain [1] start processing\n"
     ]
    },
    {
     "name": "stdout",
     "output_type": "stream",
     "text": [
      "Producto 2 - MAE log: 0.19, MAPE log: 13.38%\n",
      "Producto 2 - MAE real: 0.83, MAPE real: 25.32%\n"
     ]
    },
    {
     "name": "stderr",
     "output_type": "stream",
     "text": [
      "15:57:09 - cmdstanpy - INFO - Chain [1] done processing\n",
      "15:57:09 - cmdstanpy - INFO - Chain [1] start processing\n"
     ]
    },
    {
     "name": "stdout",
     "output_type": "stream",
     "text": [
      "Producto 3 - MAE log: 0.07, MAPE log: 3.65%\n",
      "Producto 3 - MAE real: 0.42, MAPE real: 7.92%\n"
     ]
    },
    {
     "name": "stderr",
     "output_type": "stream",
     "text": [
      "15:57:10 - cmdstanpy - INFO - Chain [1] done processing\n"
     ]
    },
    {
     "name": "stdout",
     "output_type": "stream",
     "text": [
      "Producto 4 - MAE log: 0.11, MAPE log: 6.71%\n",
      "Producto 4 - MAE real: 0.57, MAPE real: 13.60%\n"
     ]
    },
    {
     "name": "stderr",
     "output_type": "stream",
     "text": [
      "15:57:10 - cmdstanpy - INFO - Chain [1] start processing\n",
      "15:57:10 - cmdstanpy - INFO - Chain [1] done processing\n",
      "15:57:10 - cmdstanpy - INFO - Chain [1] start processing\n"
     ]
    },
    {
     "name": "stdout",
     "output_type": "stream",
     "text": [
      "Producto 5 - MAE log: 0.08, MAPE log: 4.64%\n",
      "Producto 5 - MAE real: 0.47, MAPE real: 9.74%\n"
     ]
    },
    {
     "name": "stderr",
     "output_type": "stream",
     "text": [
      "15:57:10 - cmdstanpy - INFO - Chain [1] done processing\n",
      "15:57:11 - cmdstanpy - INFO - Chain [1] start processing\n"
     ]
    },
    {
     "name": "stdout",
     "output_type": "stream",
     "text": [
      "Producto 6 - MAE log: 0.07, MAPE log: 4.00%\n",
      "Producto 6 - MAE real: 0.48, MAPE real: 8.73%\n"
     ]
    },
    {
     "name": "stderr",
     "output_type": "stream",
     "text": [
      "15:57:11 - cmdstanpy - INFO - Chain [1] done processing\n"
     ]
    },
    {
     "name": "stdout",
     "output_type": "stream",
     "text": [
      "Producto 7 - MAE log: 0.07, MAPE log: 4.10%\n",
      "Producto 7 - MAE real: 0.46, MAPE real: 8.82%\n"
     ]
    },
    {
     "name": "stderr",
     "output_type": "stream",
     "text": [
      "15:57:11 - cmdstanpy - INFO - Chain [1] start processing\n",
      "15:57:11 - cmdstanpy - INFO - Chain [1] done processing\n",
      "15:57:12 - cmdstanpy - INFO - Chain [1] start processing\n"
     ]
    },
    {
     "name": "stdout",
     "output_type": "stream",
     "text": [
      "Producto 8 - MAE log: 0.16, MAPE log: 10.48%\n",
      "Producto 8 - MAE real: 0.72, MAPE real: 20.25%\n"
     ]
    },
    {
     "name": "stderr",
     "output_type": "stream",
     "text": [
      "15:57:12 - cmdstanpy - INFO - Chain [1] done processing\n",
      "15:57:12 - cmdstanpy - INFO - Chain [1] start processing\n"
     ]
    },
    {
     "name": "stdout",
     "output_type": "stream",
     "text": [
      "Producto 9 - MAE log: 0.10, MAPE log: 5.65%\n",
      "Producto 9 - MAE real: 0.52, MAPE real: 11.62%\n"
     ]
    },
    {
     "name": "stderr",
     "output_type": "stream",
     "text": [
      "15:57:12 - cmdstanpy - INFO - Chain [1] done processing\n",
      "15:57:12 - cmdstanpy - INFO - Chain [1] start processing\n"
     ]
    },
    {
     "name": "stdout",
     "output_type": "stream",
     "text": [
      "Producto 10 - MAE log: 0.10, MAPE log: 5.77%\n",
      "Producto 10 - MAE real: 0.54, MAPE real: 12.00%\n"
     ]
    },
    {
     "name": "stderr",
     "output_type": "stream",
     "text": [
      "15:57:12 - cmdstanpy - INFO - Chain [1] done processing\n",
      "15:57:12 - cmdstanpy - INFO - Chain [1] start processing\n"
     ]
    },
    {
     "name": "stdout",
     "output_type": "stream",
     "text": [
      "Producto 11 - MAE log: 0.14, MAPE log: 8.92%\n",
      "Producto 11 - MAE real: 0.67, MAPE real: 17.55%\n"
     ]
    },
    {
     "name": "stderr",
     "output_type": "stream",
     "text": [
      "15:57:12 - cmdstanpy - INFO - Chain [1] done processing\n"
     ]
    },
    {
     "name": "stdout",
     "output_type": "stream",
     "text": [
      "Producto 12 - MAE log: 0.15, MAPE log: 9.57%\n",
      "Producto 12 - MAE real: 0.74, MAPE real: 19.02%\n",
      "\n",
      "Resumen de errores:\n",
      "Producto 0 → MAE: 0.50, MAPE: 9.42%\n",
      "Producto 1 → MAE: 0.82, MAPE: 25.95%\n",
      "Producto 2 → MAE: 0.83, MAPE: 25.32%\n",
      "Producto 3 → MAE: 0.42, MAPE: 7.92%\n",
      "Producto 4 → MAE: 0.57, MAPE: 13.60%\n",
      "Producto 5 → MAE: 0.47, MAPE: 9.74%\n",
      "Producto 6 → MAE: 0.48, MAPE: 8.73%\n",
      "Producto 7 → MAE: 0.46, MAPE: 8.82%\n",
      "Producto 8 → MAE: 0.72, MAPE: 20.25%\n",
      "Producto 9 → MAE: 0.52, MAPE: 11.62%\n",
      "Producto 10 → MAE: 0.54, MAPE: 12.00%\n",
      "Producto 11 → MAE: 0.67, MAPE: 17.55%\n",
      "Producto 12 → MAE: 0.74, MAPE: 19.02%\n"
     ]
    }
   ],
   "source": [
    "from prophet import Prophet\n",
    "import numpy as np\n",
    "from sklearn.metrics import mean_absolute_error\n",
    "\n",
    "mae_scores = {}\n",
    "mape_scores = {}\n",
    "\n",
    "for product in df['Product_ID'].unique():\n",
    "    df_product = df[df['Product_ID'] == product][['Order_Date', 'Total_Sales']].rename(columns={'Order_Date': 'ds', 'Total_Sales': 'y'})\n",
    "    \n",
    "    # 🔹 Aplicar log1p para mayor estabilidad\n",
    "    df_product['y'] = np.log1p(df_product['y'])\n",
    "\n",
    "    # Crear y entrenar Prophet con estacionalidad ajustada\n",
    "    model = Prophet(\n",
    "        changepoint_prior_scale=0.1,\n",
    "        yearly_seasonality=True,\n",
    "        seasonality_prior_scale=20\n",
    "    )\n",
    "    model.add_seasonality(name='monthly', period=30.5, fourier_order=10)  # Agregar estacionalidad manual\n",
    "    model.fit(df_product)\n",
    "\n",
    "    # Hacer predicción en las mismas fechas reales\n",
    "    future = df_product[['ds']]\n",
    "    forecast = model.predict(future)\n",
    "\n",
    "    # Obtener valores reales y predicciones\n",
    "    y_true = df_product['y'].values\n",
    "    y_pred = forecast['yhat'].values\n",
    "\n",
    "    # 🔹 Evaluar en escala log antes de desescalar\n",
    "    mae_log = mean_absolute_error(y_true, y_pred)\n",
    "    mape_log = np.mean(np.abs((y_true - y_pred) / np.maximum(y_true, 1))) * 100\n",
    "\n",
    "    print(f'Producto {product} - MAE log: {mae_log:.2f}, MAPE log: {mape_log:.2f}%')\n",
    "\n",
    "    # 🔹 Deshacer log1p\n",
    "    y_true_original = np.expm1(y_true)\n",
    "    y_pred_original = np.expm1(y_pred)\n",
    "\n",
    "    # Calcular errores en escala original\n",
    "    mae = mean_absolute_error(y_true_original, y_pred_original)\n",
    "    mae_scores[product] = mae\n",
    "\n",
    "    mape = np.mean(np.abs((y_true_original - y_pred_original) / np.maximum(y_true_original, 1))) * 100\n",
    "    mape_scores[product] = mape\n",
    "\n",
    "    print(f'Producto {product} - MAE real: {mae:.2f}, MAPE real: {mape:.2f}%')\n",
    "\n",
    "print(\"\\nResumen de errores:\")\n",
    "for product in mae_scores.keys():\n",
    "    print(f'Producto {product} → MAE: {mae_scores[product]:.2f}, MAPE: {mape_scores[product]:.2f}%')\n",
    "\n"
   ]
  },
  {
   "cell_type": "code",
   "execution_count": 9,
   "metadata": {},
   "outputs": [
    {
     "name": "stdout",
     "output_type": "stream",
     "text": [
      "ADF Statistic: -10.117611565476572\n",
      "p-value: 9.631398278016664e-18\n",
      "La serie es estacionaria (rechazamos H0)\n"
     ]
    }
   ],
   "source": [
    "from statsmodels.tsa.stattools import adfuller\n",
    "\n",
    "# Prueba de Dickey-Fuller\n",
    "adf_test = adfuller(df_product['y'])\n",
    "print(f'ADF Statistic: {adf_test[0]}')\n",
    "print(f'p-value: {adf_test[1]}')\n",
    "\n",
    "# Interpretación\n",
    "if adf_test[1] < 0.05:\n",
    "    print(\"La serie es estacionaria (rechazamos H0)\")\n",
    "else:\n",
    "    print(\"La serie NO es estacionaria (no podemos rechazar H0)\")\n"
   ]
  },
  {
   "cell_type": "code",
   "execution_count": 10,
   "metadata": {},
   "outputs": [
    {
     "data": {
      "image/png": "[encoded data removed]",
      "text/plain": [
       "<Figure size 1500x500 with 2 Axes>"
      ]
     },
     "metadata": {},
     "output_type": "display_data"
    }
   ],
   "source": [
    "from statsmodels.graphics.tsaplots import plot_acf, plot_pacf\n",
    "\n",
    "# Graficar ACF y PACF de la serie diferenciada\n",
    "fig, axes = plt.subplots(1, 2, figsize=(15,5))\n",
    "\n",
    "plot_acf(df['Total_Sales'], ax=axes[0])  # ACF\n",
    "axes[0].set_title(\"Autocorrelación (ACF)\")\n",
    "\n",
    "plot_pacf(df['Total_Sales'], ax=axes[1])  # PACF\n",
    "axes[1].set_title(\"Autocorrelación Parcial (PACF)\")\n",
    "\n",
    "plt.show()\n"
   ]
  },
  {
   "cell_type": "code",
   "execution_count": 11,
   "metadata": {},
   "outputs": [
    {
     "name": "stderr",
     "output_type": "stream",
     "text": [
      "c:\\Users\\Abdon.RAMIREZ-BRICEN\\AppData\\Local\\pypoetry\\Cache\\virtualenvs\\proyecto_ml-ofZbHP6o-py3.12\\Lib\\site-packages\\statsmodels\\tsa\\base\\tsa_model.py:473: ValueWarning: A date index has been provided, but it has no associated frequency information and so will be ignored when e.g. forecasting.\n",
      "  self._init_dates(dates, freq)\n",
      "c:\\Users\\Abdon.RAMIREZ-BRICEN\\AppData\\Local\\pypoetry\\Cache\\virtualenvs\\proyecto_ml-ofZbHP6o-py3.12\\Lib\\site-packages\\statsmodels\\tsa\\base\\tsa_model.py:473: ValueWarning: A date index has been provided, but it is not monotonic and so will be ignored when e.g. forecasting.\n",
      "  self._init_dates(dates, freq)\n",
      "c:\\Users\\Abdon.RAMIREZ-BRICEN\\AppData\\Local\\pypoetry\\Cache\\virtualenvs\\proyecto_ml-ofZbHP6o-py3.12\\Lib\\site-packages\\statsmodels\\tsa\\base\\tsa_model.py:473: ValueWarning: A date index has been provided, but it has no associated frequency information and so will be ignored when e.g. forecasting.\n",
      "  self._init_dates(dates, freq)\n",
      "c:\\Users\\Abdon.RAMIREZ-BRICEN\\AppData\\Local\\pypoetry\\Cache\\virtualenvs\\proyecto_ml-ofZbHP6o-py3.12\\Lib\\site-packages\\statsmodels\\tsa\\base\\tsa_model.py:473: ValueWarning: A date index has been provided, but it is not monotonic and so will be ignored when e.g. forecasting.\n",
      "  self._init_dates(dates, freq)\n",
      "c:\\Users\\Abdon.RAMIREZ-BRICEN\\AppData\\Local\\pypoetry\\Cache\\virtualenvs\\proyecto_ml-ofZbHP6o-py3.12\\Lib\\site-packages\\statsmodels\\tsa\\base\\tsa_model.py:473: ValueWarning: A date index has been provided, but it has no associated frequency information and so will be ignored when e.g. forecasting.\n",
      "  self._init_dates(dates, freq)\n",
      "c:\\Users\\Abdon.RAMIREZ-BRICEN\\AppData\\Local\\pypoetry\\Cache\\virtualenvs\\proyecto_ml-ofZbHP6o-py3.12\\Lib\\site-packages\\statsmodels\\tsa\\base\\tsa_model.py:473: ValueWarning: A date index has been provided, but it is not monotonic and so will be ignored when e.g. forecasting.\n",
      "  self._init_dates(dates, freq)\n",
      "c:\\Users\\Abdon.RAMIREZ-BRICEN\\AppData\\Local\\pypoetry\\Cache\\virtualenvs\\proyecto_ml-ofZbHP6o-py3.12\\Lib\\site-packages\\statsmodels\\tsa\\base\\tsa_model.py:837: ValueWarning: No supported index is available. Prediction results will be given with an integer index beginning at `start`.\n",
      "  return get_prediction_index(\n",
      "c:\\Users\\Abdon.RAMIREZ-BRICEN\\AppData\\Local\\pypoetry\\Cache\\virtualenvs\\proyecto_ml-ofZbHP6o-py3.12\\Lib\\site-packages\\statsmodels\\tsa\\base\\tsa_model.py:473: ValueWarning: A date index has been provided, but it has no associated frequency information and so will be ignored when e.g. forecasting.\n",
      "  self._init_dates(dates, freq)\n",
      "c:\\Users\\Abdon.RAMIREZ-BRICEN\\AppData\\Local\\pypoetry\\Cache\\virtualenvs\\proyecto_ml-ofZbHP6o-py3.12\\Lib\\site-packages\\statsmodels\\tsa\\base\\tsa_model.py:473: ValueWarning: A date index has been provided, but it is not monotonic and so will be ignored when e.g. forecasting.\n",
      "  self._init_dates(dates, freq)\n",
      "c:\\Users\\Abdon.RAMIREZ-BRICEN\\AppData\\Local\\pypoetry\\Cache\\virtualenvs\\proyecto_ml-ofZbHP6o-py3.12\\Lib\\site-packages\\statsmodels\\tsa\\base\\tsa_model.py:473: ValueWarning: A date index has been provided, but it has no associated frequency information and so will be ignored when e.g. forecasting.\n",
      "  self._init_dates(dates, freq)\n",
      "c:\\Users\\Abdon.RAMIREZ-BRICEN\\AppData\\Local\\pypoetry\\Cache\\virtualenvs\\proyecto_ml-ofZbHP6o-py3.12\\Lib\\site-packages\\statsmodels\\tsa\\base\\tsa_model.py:473: ValueWarning: A date index has been provided, but it is not monotonic and so will be ignored when e.g. forecasting.\n",
      "  self._init_dates(dates, freq)\n",
      "c:\\Users\\Abdon.RAMIREZ-BRICEN\\AppData\\Local\\pypoetry\\Cache\\virtualenvs\\proyecto_ml-ofZbHP6o-py3.12\\Lib\\site-packages\\statsmodels\\tsa\\base\\tsa_model.py:473: ValueWarning: A date index has been provided, but it has no associated frequency information and so will be ignored when e.g. forecasting.\n",
      "  self._init_dates(dates, freq)\n",
      "c:\\Users\\Abdon.RAMIREZ-BRICEN\\AppData\\Local\\pypoetry\\Cache\\virtualenvs\\proyecto_ml-ofZbHP6o-py3.12\\Lib\\site-packages\\statsmodels\\tsa\\base\\tsa_model.py:473: ValueWarning: A date index has been provided, but it is not monotonic and so will be ignored when e.g. forecasting.\n",
      "  self._init_dates(dates, freq)\n",
      "c:\\Users\\Abdon.RAMIREZ-BRICEN\\AppData\\Local\\pypoetry\\Cache\\virtualenvs\\proyecto_ml-ofZbHP6o-py3.12\\Lib\\site-packages\\statsmodels\\tsa\\base\\tsa_model.py:837: ValueWarning: No supported index is available. Prediction results will be given with an integer index beginning at `start`.\n",
      "  return get_prediction_index(\n",
      "c:\\Users\\Abdon.RAMIREZ-BRICEN\\AppData\\Local\\pypoetry\\Cache\\virtualenvs\\proyecto_ml-ofZbHP6o-py3.12\\Lib\\site-packages\\statsmodels\\tsa\\base\\tsa_model.py:473: ValueWarning: A date index has been provided, but it has no associated frequency information and so will be ignored when e.g. forecasting.\n",
      "  self._init_dates(dates, freq)\n",
      "c:\\Users\\Abdon.RAMIREZ-BRICEN\\AppData\\Local\\pypoetry\\Cache\\virtualenvs\\proyecto_ml-ofZbHP6o-py3.12\\Lib\\site-packages\\statsmodels\\tsa\\base\\tsa_model.py:473: ValueWarning: A date index has been provided, but it is not monotonic and so will be ignored when e.g. forecasting.\n",
      "  self._init_dates(dates, freq)\n",
      "c:\\Users\\Abdon.RAMIREZ-BRICEN\\AppData\\Local\\pypoetry\\Cache\\virtualenvs\\proyecto_ml-ofZbHP6o-py3.12\\Lib\\site-packages\\statsmodels\\tsa\\base\\tsa_model.py:473: ValueWarning: A date index has been provided, but it has no associated frequency information and so will be ignored when e.g. forecasting.\n",
      "  self._init_dates(dates, freq)\n",
      "c:\\Users\\Abdon.RAMIREZ-BRICEN\\AppData\\Local\\pypoetry\\Cache\\virtualenvs\\proyecto_ml-ofZbHP6o-py3.12\\Lib\\site-packages\\statsmodels\\tsa\\base\\tsa_model.py:473: ValueWarning: A date index has been provided, but it is not monotonic and so will be ignored when e.g. forecasting.\n",
      "  self._init_dates(dates, freq)\n",
      "c:\\Users\\Abdon.RAMIREZ-BRICEN\\AppData\\Local\\pypoetry\\Cache\\virtualenvs\\proyecto_ml-ofZbHP6o-py3.12\\Lib\\site-packages\\statsmodels\\tsa\\base\\tsa_model.py:473: ValueWarning: A date index has been provided, but it has no associated frequency information and so will be ignored when e.g. forecasting.\n",
      "  self._init_dates(dates, freq)\n",
      "c:\\Users\\Abdon.RAMIREZ-BRICEN\\AppData\\Local\\pypoetry\\Cache\\virtualenvs\\proyecto_ml-ofZbHP6o-py3.12\\Lib\\site-packages\\statsmodels\\tsa\\base\\tsa_model.py:473: ValueWarning: A date index has been provided, but it is not monotonic and so will be ignored when e.g. forecasting.\n",
      "  self._init_dates(dates, freq)\n"
     ]
    },
    {
     "name": "stdout",
     "output_type": "stream",
     "text": [
      "Producto 1 - Predicciones ARIMA: 721    3.171346\n",
      "722    3.163832\n",
      "723    3.158525\n",
      "Name: predicted_mean, dtype: float64\n",
      "Producto 2 - Predicciones ARIMA: 564    3.314620\n",
      "565    3.314458\n",
      "566    3.314609\n",
      "Name: predicted_mean, dtype: float64\n",
      "Producto 8 - Predicciones ARIMA: 935    3.528932\n",
      "936    3.537824\n",
      "937    3.541319\n",
      "Name: predicted_mean, dtype: float64\n",
      "Producto 11 - Predicciones ARIMA: 439    3.696208\n",
      "440    3.757591\n",
      "441    3.756850\n",
      "Name: predicted_mean, dtype: float64\n",
      "Producto 12 - Predicciones ARIMA: 133    3.799868\n",
      "134    3.818338\n",
      "135    3.828259\n",
      "Name: predicted_mean, dtype: float64\n"
     ]
    },
    {
     "name": "stderr",
     "output_type": "stream",
     "text": [
      "c:\\Users\\Abdon.RAMIREZ-BRICEN\\AppData\\Local\\pypoetry\\Cache\\virtualenvs\\proyecto_ml-ofZbHP6o-py3.12\\Lib\\site-packages\\statsmodels\\tsa\\base\\tsa_model.py:837: ValueWarning: No supported index is available. Prediction results will be given with an integer index beginning at `start`.\n",
      "  return get_prediction_index(\n",
      "c:\\Users\\Abdon.RAMIREZ-BRICEN\\AppData\\Local\\pypoetry\\Cache\\virtualenvs\\proyecto_ml-ofZbHP6o-py3.12\\Lib\\site-packages\\statsmodels\\tsa\\base\\tsa_model.py:473: ValueWarning: A date index has been provided, but it has no associated frequency information and so will be ignored when e.g. forecasting.\n",
      "  self._init_dates(dates, freq)\n",
      "c:\\Users\\Abdon.RAMIREZ-BRICEN\\AppData\\Local\\pypoetry\\Cache\\virtualenvs\\proyecto_ml-ofZbHP6o-py3.12\\Lib\\site-packages\\statsmodels\\tsa\\base\\tsa_model.py:473: ValueWarning: A date index has been provided, but it is not monotonic and so will be ignored when e.g. forecasting.\n",
      "  self._init_dates(dates, freq)\n",
      "c:\\Users\\Abdon.RAMIREZ-BRICEN\\AppData\\Local\\pypoetry\\Cache\\virtualenvs\\proyecto_ml-ofZbHP6o-py3.12\\Lib\\site-packages\\statsmodels\\tsa\\base\\tsa_model.py:473: ValueWarning: A date index has been provided, but it has no associated frequency information and so will be ignored when e.g. forecasting.\n",
      "  self._init_dates(dates, freq)\n",
      "c:\\Users\\Abdon.RAMIREZ-BRICEN\\AppData\\Local\\pypoetry\\Cache\\virtualenvs\\proyecto_ml-ofZbHP6o-py3.12\\Lib\\site-packages\\statsmodels\\tsa\\base\\tsa_model.py:473: ValueWarning: A date index has been provided, but it is not monotonic and so will be ignored when e.g. forecasting.\n",
      "  self._init_dates(dates, freq)\n",
      "c:\\Users\\Abdon.RAMIREZ-BRICEN\\AppData\\Local\\pypoetry\\Cache\\virtualenvs\\proyecto_ml-ofZbHP6o-py3.12\\Lib\\site-packages\\statsmodels\\tsa\\base\\tsa_model.py:473: ValueWarning: A date index has been provided, but it has no associated frequency information and so will be ignored when e.g. forecasting.\n",
      "  self._init_dates(dates, freq)\n",
      "c:\\Users\\Abdon.RAMIREZ-BRICEN\\AppData\\Local\\pypoetry\\Cache\\virtualenvs\\proyecto_ml-ofZbHP6o-py3.12\\Lib\\site-packages\\statsmodels\\tsa\\base\\tsa_model.py:473: ValueWarning: A date index has been provided, but it is not monotonic and so will be ignored when e.g. forecasting.\n",
      "  self._init_dates(dates, freq)\n",
      "c:\\Users\\Abdon.RAMIREZ-BRICEN\\AppData\\Local\\pypoetry\\Cache\\virtualenvs\\proyecto_ml-ofZbHP6o-py3.12\\Lib\\site-packages\\statsmodels\\tsa\\base\\tsa_model.py:837: ValueWarning: No supported index is available. Prediction results will be given with an integer index beginning at `start`.\n",
      "  return get_prediction_index(\n",
      "c:\\Users\\Abdon.RAMIREZ-BRICEN\\AppData\\Local\\pypoetry\\Cache\\virtualenvs\\proyecto_ml-ofZbHP6o-py3.12\\Lib\\site-packages\\statsmodels\\tsa\\base\\tsa_model.py:473: ValueWarning: A date index has been provided, but it has no associated frequency information and so will be ignored when e.g. forecasting.\n",
      "  self._init_dates(dates, freq)\n",
      "c:\\Users\\Abdon.RAMIREZ-BRICEN\\AppData\\Local\\pypoetry\\Cache\\virtualenvs\\proyecto_ml-ofZbHP6o-py3.12\\Lib\\site-packages\\statsmodels\\tsa\\base\\tsa_model.py:473: ValueWarning: A date index has been provided, but it is not monotonic and so will be ignored when e.g. forecasting.\n",
      "  self._init_dates(dates, freq)\n",
      "c:\\Users\\Abdon.RAMIREZ-BRICEN\\AppData\\Local\\pypoetry\\Cache\\virtualenvs\\proyecto_ml-ofZbHP6o-py3.12\\Lib\\site-packages\\statsmodels\\tsa\\base\\tsa_model.py:473: ValueWarning: A date index has been provided, but it has no associated frequency information and so will be ignored when e.g. forecasting.\n",
      "  self._init_dates(dates, freq)\n",
      "c:\\Users\\Abdon.RAMIREZ-BRICEN\\AppData\\Local\\pypoetry\\Cache\\virtualenvs\\proyecto_ml-ofZbHP6o-py3.12\\Lib\\site-packages\\statsmodels\\tsa\\base\\tsa_model.py:473: ValueWarning: A date index has been provided, but it is not monotonic and so will be ignored when e.g. forecasting.\n",
      "  self._init_dates(dates, freq)\n",
      "c:\\Users\\Abdon.RAMIREZ-BRICEN\\AppData\\Local\\pypoetry\\Cache\\virtualenvs\\proyecto_ml-ofZbHP6o-py3.12\\Lib\\site-packages\\statsmodels\\tsa\\base\\tsa_model.py:473: ValueWarning: A date index has been provided, but it has no associated frequency information and so will be ignored when e.g. forecasting.\n",
      "  self._init_dates(dates, freq)\n",
      "c:\\Users\\Abdon.RAMIREZ-BRICEN\\AppData\\Local\\pypoetry\\Cache\\virtualenvs\\proyecto_ml-ofZbHP6o-py3.12\\Lib\\site-packages\\statsmodels\\tsa\\base\\tsa_model.py:473: ValueWarning: A date index has been provided, but it is not monotonic and so will be ignored when e.g. forecasting.\n",
      "  self._init_dates(dates, freq)\n",
      "c:\\Users\\Abdon.RAMIREZ-BRICEN\\AppData\\Local\\pypoetry\\Cache\\virtualenvs\\proyecto_ml-ofZbHP6o-py3.12\\Lib\\site-packages\\statsmodels\\tsa\\base\\tsa_model.py:837: ValueWarning: No supported index is available. Prediction results will be given with an integer index beginning at `start`.\n",
      "  return get_prediction_index(\n"
     ]
    }
   ],
   "source": [
    "from statsmodels.tsa.arima.model import ARIMA\n",
    "\n",
    "productos_altos_errores = [1, 2, 8, 11, 12]  # Productos con MAPE > 20%\n",
    "\n",
    "for product in productos_altos_errores:\n",
    "    df_product = df[df['Product_ID'] == product].set_index('Order_Date')['Total_Sales']\n",
    "    \n",
    "    model = ARIMA(df_product, order=(1,0,1))  # Ajustar según ACF/PACF\n",
    "    model_fit = model.fit()\n",
    "\n",
    "    forecast = model_fit.forecast(steps=3)\n",
    "    print(f'Producto {product} - Predicciones ARIMA:', forecast)\n"
   ]
  },
  {
   "cell_type": "code",
   "execution_count": 12,
   "metadata": {},
   "outputs": [],
   "source": [
    "df['Order_Date'] = pd.to_datetime(df['Order_Date'])\n",
    "df['year'] = df['Order_Date'].dt.year\n",
    "df['month'] = df['Order_Date'].dt.month\n",
    "\n",
    "# Crear una tabla con ventas agregadas por producto y mes\n",
    "df_monthly = df.groupby(['Product_ID', 'year', 'month'])['Total_Sales'].sum().reset_index()\n",
    "\n",
    "# Crear variables de retraso (lag) para ventas pasadas\n",
    "df_monthly['ventas_t-1'] = df_monthly.groupby('Product_ID')['Total_Sales'].shift(1)\n",
    "df_monthly['ventas_t-2'] = df_monthly.groupby('Product_ID')['Total_Sales'].shift(2)\n",
    "df_monthly['ventas_t-3'] = df_monthly.groupby('Product_ID')['Total_Sales'].shift(3)\n",
    "\n",
    "# Eliminar filas con NaN (los primeros meses no tienen datos previos suficientes)\n",
    "df_monthly = df_monthly.dropna()\n",
    "\n",
    "# Definir variables de entrada (X) y salida (y)\n",
    "X = df_monthly[['Product_ID', 'ventas_t-1', 'ventas_t-2', 'ventas_t-3']]\n",
    "y = df_monthly['Total_Sales']"
   ]
  },
  {
   "cell_type": "code",
   "execution_count": 13,
   "metadata": {},
   "outputs": [],
   "source": [
    "from xgboost import XGBRegressor\n",
    "from sklearn.model_selection import train_test_split\n",
    "from sklearn.metrics import mean_absolute_error,root_mean_squared_error"
   ]
  },
  {
   "cell_type": "code",
   "execution_count": 14,
   "metadata": {},
   "outputs": [],
   "source": [
    "X_train, X_test, y_train, y_test = train_test_split(X, y, test_size=0.2, random_state=42)"
   ]
  },
  {
   "cell_type": "code",
   "execution_count": 15,
   "metadata": {},
   "outputs": [
    {
     "name": "stdout",
     "output_type": "stream",
     "text": [
      "MAE XGBoost: 28.92\n",
      "RMSE XGBoost: 40.48\n"
     ]
    }
   ],
   "source": [
    "model = XGBRegressor(objective='reg:squarederror', n_estimators=100, learning_rate=0.1, max_depth=6)\n",
    "model.fit(X_train, y_train)\n",
    "\n",
    "# Predicciones y evaluación\n",
    "y_pred = model.predict(X_test)\n",
    "mae = mean_absolute_error(y_test, y_pred)\n",
    "rmse = root_mean_squared_error(y_test,y_pred)\n",
    "print(f'MAE XGBoost: {mae:.2f}')\n",
    "print(f'RMSE XGBoost: {rmse:.2f}')"
   ]
  },
  {
   "cell_type": "code",
   "execution_count": 16,
   "metadata": {},
   "outputs": [
    {
     "data": {
      "text/html": [
       "<div>\n",
       "<style scoped>\n",
       "    .dataframe tbody tr th:only-of-type {\n",
       "        vertical-align: middle;\n",
       "    }\n",
       "\n",
       "    .dataframe tbody tr th {\n",
       "        vertical-align: top;\n",
       "    }\n",
       "\n",
       "    .dataframe thead th {\n",
       "        text-align: right;\n",
       "    }\n",
       "</style>\n",
       "<table border=\"1\" class=\"dataframe\">\n",
       "  <thead>\n",
       "    <tr style=\"text-align: right;\">\n",
       "      <th></th>\n",
       "      <th>Product_ID</th>\n",
       "      <th>Predicted_Sales</th>\n",
       "    </tr>\n",
       "  </thead>\n",
       "  <tbody>\n",
       "    <tr>\n",
       "      <th>0</th>\n",
       "      <td>0</td>\n",
       "      <td>316.966522</td>\n",
       "    </tr>\n",
       "    <tr>\n",
       "      <th>1</th>\n",
       "      <td>0</td>\n",
       "      <td>341.846466</td>\n",
       "    </tr>\n",
       "    <tr>\n",
       "      <th>2</th>\n",
       "      <td>0</td>\n",
       "      <td>321.316498</td>\n",
       "    </tr>\n",
       "    <tr>\n",
       "      <th>3</th>\n",
       "      <td>1</td>\n",
       "      <td>198.275635</td>\n",
       "    </tr>\n",
       "    <tr>\n",
       "      <th>4</th>\n",
       "      <td>1</td>\n",
       "      <td>135.319397</td>\n",
       "    </tr>\n",
       "    <tr>\n",
       "      <th>5</th>\n",
       "      <td>1</td>\n",
       "      <td>173.086823</td>\n",
       "    </tr>\n",
       "    <tr>\n",
       "      <th>6</th>\n",
       "      <td>2</td>\n",
       "      <td>163.643463</td>\n",
       "    </tr>\n",
       "    <tr>\n",
       "      <th>7</th>\n",
       "      <td>2</td>\n",
       "      <td>167.701233</td>\n",
       "    </tr>\n",
       "    <tr>\n",
       "      <th>8</th>\n",
       "      <td>2</td>\n",
       "      <td>167.243271</td>\n",
       "    </tr>\n",
       "    <tr>\n",
       "      <th>9</th>\n",
       "      <td>3</td>\n",
       "      <td>140.955704</td>\n",
       "    </tr>\n",
       "    <tr>\n",
       "      <th>10</th>\n",
       "      <td>3</td>\n",
       "      <td>159.624680</td>\n",
       "    </tr>\n",
       "    <tr>\n",
       "      <th>11</th>\n",
       "      <td>3</td>\n",
       "      <td>173.129257</td>\n",
       "    </tr>\n",
       "    <tr>\n",
       "      <th>12</th>\n",
       "      <td>4</td>\n",
       "      <td>88.365234</td>\n",
       "    </tr>\n",
       "    <tr>\n",
       "      <th>13</th>\n",
       "      <td>4</td>\n",
       "      <td>89.449577</td>\n",
       "    </tr>\n",
       "    <tr>\n",
       "      <th>14</th>\n",
       "      <td>4</td>\n",
       "      <td>76.563774</td>\n",
       "    </tr>\n",
       "    <tr>\n",
       "      <th>15</th>\n",
       "      <td>5</td>\n",
       "      <td>644.124756</td>\n",
       "    </tr>\n",
       "    <tr>\n",
       "      <th>16</th>\n",
       "      <td>5</td>\n",
       "      <td>554.006836</td>\n",
       "    </tr>\n",
       "    <tr>\n",
       "      <th>17</th>\n",
       "      <td>5</td>\n",
       "      <td>554.426636</td>\n",
       "    </tr>\n",
       "    <tr>\n",
       "      <th>18</th>\n",
       "      <td>6</td>\n",
       "      <td>136.309631</td>\n",
       "    </tr>\n",
       "    <tr>\n",
       "      <th>19</th>\n",
       "      <td>6</td>\n",
       "      <td>108.950844</td>\n",
       "    </tr>\n",
       "    <tr>\n",
       "      <th>20</th>\n",
       "      <td>6</td>\n",
       "      <td>131.341324</td>\n",
       "    </tr>\n",
       "    <tr>\n",
       "      <th>21</th>\n",
       "      <td>7</td>\n",
       "      <td>305.520874</td>\n",
       "    </tr>\n",
       "    <tr>\n",
       "      <th>22</th>\n",
       "      <td>7</td>\n",
       "      <td>304.468079</td>\n",
       "    </tr>\n",
       "    <tr>\n",
       "      <th>23</th>\n",
       "      <td>7</td>\n",
       "      <td>346.542786</td>\n",
       "    </tr>\n",
       "    <tr>\n",
       "      <th>24</th>\n",
       "      <td>8</td>\n",
       "      <td>305.943176</td>\n",
       "    </tr>\n",
       "    <tr>\n",
       "      <th>25</th>\n",
       "      <td>8</td>\n",
       "      <td>208.551422</td>\n",
       "    </tr>\n",
       "    <tr>\n",
       "      <th>26</th>\n",
       "      <td>8</td>\n",
       "      <td>307.317413</td>\n",
       "    </tr>\n",
       "    <tr>\n",
       "      <th>27</th>\n",
       "      <td>9</td>\n",
       "      <td>100.142220</td>\n",
       "    </tr>\n",
       "    <tr>\n",
       "      <th>28</th>\n",
       "      <td>9</td>\n",
       "      <td>105.791542</td>\n",
       "    </tr>\n",
       "    <tr>\n",
       "      <th>29</th>\n",
       "      <td>9</td>\n",
       "      <td>104.733192</td>\n",
       "    </tr>\n",
       "    <tr>\n",
       "      <th>30</th>\n",
       "      <td>10</td>\n",
       "      <td>86.567352</td>\n",
       "    </tr>\n",
       "    <tr>\n",
       "      <th>31</th>\n",
       "      <td>10</td>\n",
       "      <td>75.337830</td>\n",
       "    </tr>\n",
       "    <tr>\n",
       "      <th>32</th>\n",
       "      <td>10</td>\n",
       "      <td>69.812782</td>\n",
       "    </tr>\n",
       "    <tr>\n",
       "      <th>33</th>\n",
       "      <td>11</td>\n",
       "      <td>122.736298</td>\n",
       "    </tr>\n",
       "    <tr>\n",
       "      <th>34</th>\n",
       "      <td>11</td>\n",
       "      <td>146.333908</td>\n",
       "    </tr>\n",
       "    <tr>\n",
       "      <th>35</th>\n",
       "      <td>11</td>\n",
       "      <td>109.361626</td>\n",
       "    </tr>\n",
       "    <tr>\n",
       "      <th>36</th>\n",
       "      <td>12</td>\n",
       "      <td>28.712212</td>\n",
       "    </tr>\n",
       "    <tr>\n",
       "      <th>37</th>\n",
       "      <td>12</td>\n",
       "      <td>50.913792</td>\n",
       "    </tr>\n",
       "    <tr>\n",
       "      <th>38</th>\n",
       "      <td>12</td>\n",
       "      <td>50.913792</td>\n",
       "    </tr>\n",
       "  </tbody>\n",
       "</table>\n",
       "</div>"
      ],
      "text/plain": [
       "    Product_ID  Predicted_Sales\n",
       "0            0       316.966522\n",
       "1            0       341.846466\n",
       "2            0       321.316498\n",
       "3            1       198.275635\n",
       "4            1       135.319397\n",
       "5            1       173.086823\n",
       "6            2       163.643463\n",
       "7            2       167.701233\n",
       "8            2       167.243271\n",
       "9            3       140.955704\n",
       "10           3       159.624680\n",
       "11           3       173.129257\n",
       "12           4        88.365234\n",
       "13           4        89.449577\n",
       "14           4        76.563774\n",
       "15           5       644.124756\n",
       "16           5       554.006836\n",
       "17           5       554.426636\n",
       "18           6       136.309631\n",
       "19           6       108.950844\n",
       "20           6       131.341324\n",
       "21           7       305.520874\n",
       "22           7       304.468079\n",
       "23           7       346.542786\n",
       "24           8       305.943176\n",
       "25           8       208.551422\n",
       "26           8       307.317413\n",
       "27           9       100.142220\n",
       "28           9       105.791542\n",
       "29           9       104.733192\n",
       "30          10        86.567352\n",
       "31          10        75.337830\n",
       "32          10        69.812782\n",
       "33          11       122.736298\n",
       "34          11       146.333908\n",
       "35          11       109.361626\n",
       "36          12        28.712212\n",
       "37          12        50.913792\n",
       "38          12        50.913792"
      ]
     },
     "execution_count": 16,
     "metadata": {},
     "output_type": "execute_result"
    }
   ],
   "source": [
    "future_predictions = []\n",
    "\n",
    "for product in df['Product_ID'].unique():\n",
    "    last_sales = df_monthly[df_monthly['Product_ID'] == product].iloc[-3:]['Total_Sales'].values.tolist()\n",
    "\n",
    "    for i in range(3):  # Predecir los próximos 3 meses\n",
    "        X_new = np.array([[product, last_sales[-1], last_sales[-2], last_sales[-3]]])  # Crear entrada\n",
    "        y_pred = model.predict(X_new)[0]  # Predecir con XGBoost\n",
    "        future_predictions.append([product, y_pred])\n",
    "        \n",
    "        # Actualizar ventas pasadas para la siguiente predicción\n",
    "        last_sales.append(y_pred)\n",
    "        last_sales.pop(0)  # Elimina el dato más viejo\n",
    "\n",
    "# Convertir predicciones a DataFrame\n",
    "future_df = pd.DataFrame(future_predictions, columns=['Product_ID', 'Predicted_Sales'])\n",
    "future_df"
   ]
  },
  {
   "cell_type": "code",
   "execution_count": 17,
   "metadata": {},
   "outputs": [
    {
     "data": {
      "text/plain": [
       "Product_ID\n",
       "0     9\n",
       "1     9\n",
       "2     9\n",
       "3     9\n",
       "4     9\n",
       "5     9\n",
       "6     9\n",
       "7     9\n",
       "8     9\n",
       "9     9\n",
       "10    9\n",
       "11    9\n",
       "12    9\n",
       "Name: count, dtype: int64"
      ]
     },
     "execution_count": 17,
     "metadata": {},
     "output_type": "execute_result"
    }
   ],
   "source": [
    "df_monthly['Product_ID'].value_counts()\n"
   ]
  },
  {
   "cell_type": "code",
   "execution_count": 18,
   "metadata": {},
   "outputs": [
    {
     "name": "stdout",
     "output_type": "stream",
     "text": [
      "Últimos valores de ventas por producto usados como input:\n",
      "Producto 0: [240.14710178706645, 284.017488013558, 289.1920012347081]\n",
      "Producto 1: [169.93479324386817, 229.27942753609673, 154.72029146615614]\n",
      "Producto 2: [153.89925828584316, 134.74895053226098, 155.724290862947]\n",
      "Producto 3: [199.72701171206876, 145.05983157976567, 148.8318202739847]\n",
      "Producto 4: [110.16041740222161, 95.50304187715597, 94.19307736299955]\n",
      "Producto 5: [534.8057025282859, 483.98945067517093, 573.1874640943756]\n",
      "Producto 6: [97.05997420185054, 215.18195642548082, 157.17846404928417]\n",
      "Producto 7: [339.94180857284323, 320.7509598059459, 367.6691996136327]\n",
      "Producto 8: [223.6877066781119, 295.1056668708896, 215.49668147616524]\n",
      "Producto 9: [89.71551544735513, 120.69670346339785, 98.56296713292217]\n",
      "Producto 10: [76.30480261207889, 97.97000364236638, 75.24778615417998]\n",
      "Producto 11: [156.160427355035, 118.6556784704453, 146.72509070634362]\n",
      "Producto 12: [45.03659306070968, 63.89250232535376, 39.55299751741688]\n"
     ]
    }
   ],
   "source": [
    "print(\"Últimos valores de ventas por producto usados como input:\")\n",
    "for product in df['Product_ID'].unique():\n",
    "    last_sales = df_monthly[df_monthly['Product_ID'] == product].iloc[-3:]['Total_Sales'].values.tolist()\n",
    "    print(f'Producto {product}: {last_sales}')\n"
   ]
  }
 ],
 "metadata": {
  "kernelspec": {
   "display_name": "proyecto_ml-ofZbHP6o-py3.12",
   "language": "python",
   "name": "python3"
  },
  "language_info": {
   "codemirror_mode": {
    "name": "ipython",
    "version": 3
   },
   "file_extension": ".py",
   "mimetype": "text/x-python",
   "name": "python",
   "nbconvert_exporter": "python",
   "pygments_lexer": "ipython3",
   "version": "3.12.6"
  }
 },
 "nbformat": 4,
 "nbformat_minor": 2
}
