{
 "cells": [
  {
   "cell_type": "code",
   "execution_count": null,
   "metadata": {},
   "outputs": [],
   "source": [
    "## Manipulación de datos\n",
    "import pandas as pd\n",
    "import numpy as np\n",
    "\n",
    "## Visualización\n",
    "import matplotlib.pyplot as plt\n",
    "import seaborn as sns\n",
    "\n",
    "import warnings\n",
    "warnings.filterwarnings('ignore')\n",
    "\n",
    "## Modelos\n",
    "from sklearn.model_selection import train_test_split\n",
    "from sklearn.preprocessing import StandardScaler\n",
    "from sklearn.linear_model import LogisticRegression\n",
    "from sklearn.metrics import classification_report, confusion_matrix"
   ]
  },
  {
   "cell_type": "code",
   "execution_count": 2,
   "metadata": {},
   "outputs": [
    {
     "data": {
      "text/html": [
       "<div>\n",
       "<style scoped>\n",
       "    .dataframe tbody tr th:only-of-type {\n",
       "        vertical-align: middle;\n",
       "    }\n",
       "\n",
       "    .dataframe tbody tr th {\n",
       "        vertical-align: top;\n",
       "    }\n",
       "\n",
       "    .dataframe thead th {\n",
       "        text-align: right;\n",
       "    }\n",
       "</style>\n",
       "<table border=\"1\" class=\"dataframe\">\n",
       "  <thead>\n",
       "    <tr style=\"text-align: right;\">\n",
       "      <th></th>\n",
       "      <th>Order_Date</th>\n",
       "      <th>Buyer_Age</th>\n",
       "      <th>Sales_Price</th>\n",
       "      <th>Shipping_Charges</th>\n",
       "      <th>Sales_per_Unit</th>\n",
       "      <th>Quantity</th>\n",
       "      <th>Total_Sales</th>\n",
       "      <th>Rating</th>\n",
       "      <th>Product_ID</th>\n",
       "      <th>Order_Location</th>\n",
       "      <th>International_Shipping</th>\n",
       "      <th>Buyer_Gender</th>\n",
       "      <th>Product_Category_Clothing</th>\n",
       "      <th>Product_Category_Ornaments</th>\n",
       "      <th>Product_Category_Other</th>\n",
       "    </tr>\n",
       "    <tr>\n",
       "      <th>Order_ID</th>\n",
       "      <th></th>\n",
       "      <th></th>\n",
       "      <th></th>\n",
       "      <th></th>\n",
       "      <th></th>\n",
       "      <th></th>\n",
       "      <th></th>\n",
       "      <th></th>\n",
       "      <th></th>\n",
       "      <th></th>\n",
       "      <th></th>\n",
       "      <th></th>\n",
       "      <th></th>\n",
       "      <th></th>\n",
       "      <th></th>\n",
       "    </tr>\n",
       "  </thead>\n",
       "  <tbody>\n",
       "    <tr>\n",
       "      <th>189440</th>\n",
       "      <td>2024-07-21</td>\n",
       "      <td>30</td>\n",
       "      <td>100</td>\n",
       "      <td>0</td>\n",
       "      <td>100</td>\n",
       "      <td>1</td>\n",
       "      <td>100</td>\n",
       "      <td>4</td>\n",
       "      <td>0</td>\n",
       "      <td>15</td>\n",
       "      <td>0</td>\n",
       "      <td>1</td>\n",
       "      <td>1.0</td>\n",
       "      <td>0.0</td>\n",
       "      <td>0.0</td>\n",
       "    </tr>\n",
       "    <tr>\n",
       "      <th>187385</th>\n",
       "      <td>2024-07-20</td>\n",
       "      <td>32</td>\n",
       "      <td>100</td>\n",
       "      <td>0</td>\n",
       "      <td>100</td>\n",
       "      <td>1</td>\n",
       "      <td>100</td>\n",
       "      <td>3</td>\n",
       "      <td>0</td>\n",
       "      <td>6</td>\n",
       "      <td>0</td>\n",
       "      <td>1</td>\n",
       "      <td>1.0</td>\n",
       "      <td>0.0</td>\n",
       "      <td>0.0</td>\n",
       "    </tr>\n",
       "    <tr>\n",
       "      <th>181844</th>\n",
       "      <td>2024-07-21</td>\n",
       "      <td>26</td>\n",
       "      <td>9</td>\n",
       "      <td>40</td>\n",
       "      <td>49</td>\n",
       "      <td>1</td>\n",
       "      <td>49</td>\n",
       "      <td>2</td>\n",
       "      <td>1</td>\n",
       "      <td>1</td>\n",
       "      <td>1</td>\n",
       "      <td>0</td>\n",
       "      <td>0.0</td>\n",
       "      <td>0.0</td>\n",
       "      <td>1.0</td>\n",
       "    </tr>\n",
       "    <tr>\n",
       "      <th>197934</th>\n",
       "      <td>2024-08-19</td>\n",
       "      <td>28</td>\n",
       "      <td>9</td>\n",
       "      <td>0</td>\n",
       "      <td>9</td>\n",
       "      <td>2</td>\n",
       "      <td>18</td>\n",
       "      <td>3</td>\n",
       "      <td>1</td>\n",
       "      <td>18</td>\n",
       "      <td>0</td>\n",
       "      <td>1</td>\n",
       "      <td>0.0</td>\n",
       "      <td>0.0</td>\n",
       "      <td>1.0</td>\n",
       "    </tr>\n",
       "    <tr>\n",
       "      <th>122470</th>\n",
       "      <td>2024-01-06</td>\n",
       "      <td>19</td>\n",
       "      <td>10</td>\n",
       "      <td>0</td>\n",
       "      <td>10</td>\n",
       "      <td>3</td>\n",
       "      <td>30</td>\n",
       "      <td>5</td>\n",
       "      <td>2</td>\n",
       "      <td>11</td>\n",
       "      <td>0</td>\n",
       "      <td>0</td>\n",
       "      <td>0.0</td>\n",
       "      <td>0.0</td>\n",
       "      <td>1.0</td>\n",
       "    </tr>\n",
       "  </tbody>\n",
       "</table>\n",
       "</div>"
      ],
      "text/plain": [
       "          Order_Date  Buyer_Age  Sales_Price  Shipping_Charges  \\\n",
       "Order_ID                                                         \n",
       "189440    2024-07-21         30          100                 0   \n",
       "187385    2024-07-20         32          100                 0   \n",
       "181844    2024-07-21         26            9                40   \n",
       "197934    2024-08-19         28            9                 0   \n",
       "122470    2024-01-06         19           10                 0   \n",
       "\n",
       "          Sales_per_Unit  Quantity  Total_Sales  Rating  Product_ID  \\\n",
       "Order_ID                                                              \n",
       "189440               100         1          100       4           0   \n",
       "187385               100         1          100       3           0   \n",
       "181844                49         1           49       2           1   \n",
       "197934                 9         2           18       3           1   \n",
       "122470                10         3           30       5           2   \n",
       "\n",
       "          Order_Location  International_Shipping  Buyer_Gender  \\\n",
       "Order_ID                                                         \n",
       "189440                15                       0             1   \n",
       "187385                 6                       0             1   \n",
       "181844                 1                       1             0   \n",
       "197934                18                       0             1   \n",
       "122470                11                       0             0   \n",
       "\n",
       "          Product_Category_Clothing  Product_Category_Ornaments  \\\n",
       "Order_ID                                                          \n",
       "189440                          1.0                         0.0   \n",
       "187385                          1.0                         0.0   \n",
       "181844                          0.0                         0.0   \n",
       "197934                          0.0                         0.0   \n",
       "122470                          0.0                         0.0   \n",
       "\n",
       "          Product_Category_Other  \n",
       "Order_ID                          \n",
       "189440                       0.0  \n",
       "187385                       0.0  \n",
       "181844                       1.0  \n",
       "197934                       1.0  \n",
       "122470                       1.0  "
      ]
     },
     "execution_count": 2,
     "metadata": {},
     "output_type": "execute_result"
    }
   ],
   "source": [
    "df = pd.read_csv(r'..\\..\\data\\processed\\Merch_ML.csv',index_col='Order_ID')\n",
    "df.head()"
   ]
  },
  {
   "cell_type": "code",
   "execution_count": 3,
   "metadata": {},
   "outputs": [
    {
     "data": {
      "text/plain": [
       "Shipping_Charges\n",
       "0      5139\n",
       "40     1167\n",
       "25      372\n",
       "70      361\n",
       "100     184\n",
       "50      171\n",
       "Name: count, dtype: int64"
      ]
     },
     "execution_count": 3,
     "metadata": {},
     "output_type": "execute_result"
    }
   ],
   "source": [
    "# variable objetico: Shipping_Charge.\n",
    "df['Shipping_Charges'].value_counts()"
   ]
  },
  {
   "cell_type": "markdown",
   "metadata": {},
   "source": [
    "Teniendo en cuenta que la variable es numerica discreta, prefiero aplicar un modelo de clasificacion creando una variable binaria."
   ]
  },
  {
   "cell_type": "code",
   "execution_count": 4,
   "metadata": {},
   "outputs": [
    {
     "data": {
      "text/plain": [
       "bin_Shipping_Charges\n",
       "0    0.695023\n",
       "1    0.304977\n",
       "Name: proportion, dtype: float64"
      ]
     },
     "execution_count": 4,
     "metadata": {},
     "output_type": "execute_result"
    }
   ],
   "source": [
    "df['bin_Shipping_Charges'] = (df['Shipping_Charges'] > 0).astype(int)\n",
    "df['bin_Shipping_Charges'].value_counts(normalize=True)"
   ]
  },
  {
   "cell_type": "code",
   "execution_count": 5,
   "metadata": {},
   "outputs": [],
   "source": [
    "X = df.drop(columns=['Shipping_Charges','Order_Date','bin_Shipping_Charges','International_Shipping','Sales_per_Unit'])\n",
    "y = df['bin_Shipping_Charges']\n",
    "\n",
    "# Eliminamos variables muy relacionadas para no generar overfitting y hacer un modelo mas realista."
   ]
  },
  {
   "cell_type": "code",
   "execution_count": 6,
   "metadata": {},
   "outputs": [],
   "source": [
    "X_train,X_test,y_train,y_test = train_test_split(X,y,random_state=42,test_size=0.20)"
   ]
  },
  {
   "cell_type": "code",
   "execution_count": 7,
   "metadata": {},
   "outputs": [],
   "source": [
    "esc = StandardScaler()\n",
    "X_train = esc.fit_transform(X_train)\n",
    "X_test = esc.transform(X_test)"
   ]
  },
  {
   "cell_type": "code",
   "execution_count": 8,
   "metadata": {},
   "outputs": [
    {
     "name": "stdout",
     "output_type": "stream",
     "text": [
      "              precision    recall  f1-score   support\n",
      "\n",
      "           0       0.93      0.89      0.91      1029\n",
      "           1       0.77      0.84      0.81       450\n",
      "\n",
      "    accuracy                           0.88      1479\n",
      "   macro avg       0.85      0.87      0.86      1479\n",
      "weighted avg       0.88      0.88      0.88      1479\n",
      "\n",
      "[[915 114]\n",
      " [ 70 380]]\n"
     ]
    }
   ],
   "source": [
    "log = LogisticRegression(class_weight=\"balanced\", random_state=42)\n",
    "log.fit(X_train, y_train)\n",
    "y_pred = log.predict(X_test)\n",
    "\n",
    "print(classification_report(y_test, y_pred))\n",
    "print(confusion_matrix(y_test, y_pred))\n"
   ]
  },
  {
   "cell_type": "code",
   "execution_count": 9,
   "metadata": {},
   "outputs": [
    {
     "name": "stdout",
     "output_type": "stream",
     "text": [
      "              precision    recall  f1-score   support\n",
      "\n",
      "           0       0.94      0.91      0.93      1029\n",
      "           1       0.81      0.88      0.84       450\n",
      "\n",
      "    accuracy                           0.90      1479\n",
      "   macro avg       0.88      0.89      0.89      1479\n",
      "weighted avg       0.90      0.90      0.90      1479\n",
      "\n",
      "[[938  91]\n",
      " [ 55 395]]\n"
     ]
    }
   ],
   "source": [
    "from sklearn.linear_model import SGDClassifier\n",
    "\n",
    "xdg = SGDClassifier(loss=\"log_loss\", class_weight=\"balanced\", random_state=42)\n",
    "xdg.fit(X_train, y_train)\n",
    "\n",
    "y_pred_xdg = xdg.predict(X_test)\n",
    "\n",
    "print(classification_report(y_test, y_pred_xdg))\n",
    "print(confusion_matrix(y_test, y_pred_xdg))\n"
   ]
  },
  {
   "cell_type": "code",
   "execution_count": null,
   "metadata": {},
   "outputs": [],
   "source": []
  },
  {
   "cell_type": "code",
   "execution_count": null,
   "metadata": {},
   "outputs": [],
   "source": []
  },
  {
   "cell_type": "code",
   "execution_count": null,
   "metadata": {},
   "outputs": [],
   "source": []
  },
  {
   "cell_type": "code",
   "execution_count": null,
   "metadata": {},
   "outputs": [],
   "source": []
  }
 ],
 "metadata": {
  "kernelspec": {
   "display_name": "proyecto_ml-ofZbHP6o-py3.12",
   "language": "python",
   "name": "python3"
  },
  "language_info": {
   "codemirror_mode": {
    "name": "ipython",
    "version": 3
   },
   "file_extension": ".py",
   "mimetype": "text/x-python",
   "name": "python",
   "nbconvert_exporter": "python",
   "pygments_lexer": "ipython3",
   "version": "3.12.6"
  }
 },
 "nbformat": 4,
 "nbformat_minor": 2
}
