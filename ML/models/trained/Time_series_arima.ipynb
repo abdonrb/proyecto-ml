{
 "cells": [
  {
   "cell_type": "code",
   "execution_count": null,
   "metadata": {},
   "outputs": [],
   "source": [
    "from prophet import Prophet\n",
    "import pandas as pd\n",
    "import numpy as np\n",
    "import matplotlib.pyplot as plt\n",
    "from sklearn.metrics import mean_absolute_error,root_mean_squared_error\n",
    "import warnings\n",
    "warnings.filterwarnings('ignore')\n"
   ]
  },
  {
   "cell_type": "code",
   "execution_count": 1,
   "metadata": {},
   "outputs": [],
   "source": [
    "import matplotlib.pyplot as plt"
   ]
  },
  {
   "cell_type": "code",
   "execution_count": null,
   "metadata": {},
   "outputs": [],
   "source": [
    "from pycaret.time_series import *"
   ]
  },
  {
   "cell_type": "code",
   "execution_count": null,
   "metadata": {},
   "outputs": [],
   "source": [
    "df = pd.read_csv(r'..\\..\\data\\processed\\Merch_ML.csv',index_col='Order_ID')\n",
    "df.head()"
   ]
  },
  {
   "cell_type": "code",
   "execution_count": null,
   "metadata": {},
   "outputs": [],
   "source": [
    "df['Order_Date'] = pd.to_datetime(df['Order_Date'])"
   ]
  },
  {
   "cell_type": "code",
   "execution_count": null,
   "metadata": {},
   "outputs": [],
   "source": [
    "df.drop(df[(df['Order_Date'].dt.month == 11) & (df['Order_Date'].dt.year == 2024)].index,axis=0,inplace=True)"
   ]
  },
  {
   "cell_type": "code",
   "execution_count": null,
   "metadata": {},
   "outputs": [],
   "source": [
    "# Asegurar que las fechas sean de tipo datetime\n",
    "df['Order_Date'] = pd.to_datetime(df['Order_Date'])\n",
    "\n",
    "# Agrupar por mes y sumar las ventas\n",
    "df_monthly = df.groupby(df['Order_Date'].dt.to_period('M'))['Total_Sales'].sum().reset_index()\n",
    "\n",
    "# Convertir 'Order_Date' de Period a Timestamp\n",
    "df_monthly['Order_Date'] = df_monthly['Order_Date'].dt.to_timestamp()\n",
    "\n",
    "# Verificar los datos después de la agrupación\n",
    "print(df_monthly.head())\n"
   ]
  },
  {
   "cell_type": "code",
   "execution_count": null,
   "metadata": {},
   "outputs": [],
   "source": [
    "plt.figure(figsize=(10,5))\n",
    "plt.plot(df_monthly['Order_Date'], df_monthly['Total_Sales'], marker='o', linestyle='-')\n",
    "plt.xlabel('Fecha')\n",
    "plt.ylabel('Ventas Mensuales')\n",
    "plt.title('Ventas Mensuales a lo Largo del Tiempo')\n",
    "plt.grid()\n",
    "plt.show()"
   ]
  },
  {
   "cell_type": "code",
   "execution_count": null,
   "metadata": {},
   "outputs": [],
   "source": [
    "from statsmodels.tsa.stattools import adfuller\n",
    "\n",
    "result = adfuller(df_monthly['Total_Sales'])\n",
    "print(f\"p-value de Dickey-Fuller: {result[1]:.5f}\")\n",
    "\n",
    "# Interpretación:\n",
    "if result[1] < 0.05:\n",
    "    print(\"✅ La serie es estacionaria (p-value < 0.05)\")\n",
    "else:\n",
    "    print(\"❌ La serie NO es estacionaria (p-value >= 0.05), necesitamos diferenciación.\")\n"
   ]
  },
  {
   "cell_type": "code",
   "execution_count": null,
   "metadata": {},
   "outputs": [],
   "source": [
    "print(f\"Número de observaciones en df_monthly: {len(df_monthly)}\")\n"
   ]
  },
  {
   "cell_type": "code",
   "execution_count": null,
   "metadata": {},
   "outputs": [],
   "source": [
    "from statsmodels.graphics.tsaplots import plot_acf, plot_pacf\n",
    "\n",
    "plt.figure(figsize=(12,5))\n",
    "\n",
    "plt.subplot(121)\n",
    "plot_acf(df_monthly['Total_Sales'].dropna(), lags=10)  # Ver ACF para determinar `q`\n",
    "plt.title('ACF (Autocorrelación)')\n",
    "\n",
    "plt.subplot(122)\n",
    "plot_pacf(df_monthly['Total_Sales'].dropna(), lags=10)  # Ver PACF para determinar `p`\n",
    "plt.title('PACF (Autocorrelación Parcial)')\n",
    "\n",
    "plt.show()\n"
   ]
  },
  {
   "cell_type": "code",
   "execution_count": null,
   "metadata": {},
   "outputs": [],
   "source": [
    "from statsmodels.tsa.arima.model import ARIMA\n",
    "\n",
    "# Definir valores de p, d y q (ajustar según ACF/PACF)\n",
    "p, d, q = 1, 0, 1  # Ajusta estos valores según tu análisis\n",
    "\n",
    "# Entrenar ARIMA\n",
    "model = ARIMA(df_monthly['Total_Sales'], order=(p, d, q))\n",
    "model_fit = model.fit()\n",
    "\n",
    "# Ver resumen del modelo\n",
    "print(model_fit.summary())\n"
   ]
  },
  {
   "cell_type": "code",
   "execution_count": null,
   "metadata": {},
   "outputs": [],
   "source": [
    "# Hacer predicciones para los próximos 3 meses\n",
    "forecast = model_fit.forecast(steps=3)\n",
    "\n",
    "# Crear un DataFrame con las fechas futuras\n",
    "future_dates = pd.date_range(start=df_monthly['Order_Date'].max(), periods=4, freq='M')[1:]\n",
    "forecast_df = pd.DataFrame({'Fecha': future_dates, 'Predicción': forecast})\n",
    "\n",
    "print(\"\\nPredicciones para los próximos 3 meses:\")\n",
    "print(forecast_df)\n"
   ]
  },
  {
   "cell_type": "code",
   "execution_count": null,
   "metadata": {},
   "outputs": [],
   "source": [
    "df['Total_Sales'] = np.log1p(df['Total_Sales'])"
   ]
  },
  {
   "cell_type": "code",
   "execution_count": null,
   "metadata": {},
   "outputs": [],
   "source": []
  }
 ],
 "metadata": {
  "kernelspec": {
   "display_name": ".venv",
   "language": "python",
   "name": "python3"
  },
  "language_info": {
   "codemirror_mode": {
    "name": "ipython",
    "version": 3
   },
   "file_extension": ".py",
   "mimetype": "text/x-python",
   "name": "python",
   "nbconvert_exporter": "python",
   "pygments_lexer": "ipython3",
   "version": "3.12.6"
  }
 },
 "nbformat": 4,
 "nbformat_minor": 2
}
